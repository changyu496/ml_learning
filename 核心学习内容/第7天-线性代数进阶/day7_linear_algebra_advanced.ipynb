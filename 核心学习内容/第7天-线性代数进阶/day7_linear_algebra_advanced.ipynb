{
  "cells": [
    {
      "cell_type": "raw",
      "metadata": {
        "vscode": {
          "languageId": "raw"
        }
      },
      "source": [
        "# 第7天 - 线性代数进阶\n",
        "\n",
        "## 🎯 今日目标\n",
        "- 理解特征值和特征向量的概念\n",
        "- 掌握PCA降维的基本原理\n",
        "- 学会用NumPy实现线性代数算法\n",
        "- 理解在机器学习中的应用\n",
        "\n",
        "## 📚 学习内容\n",
        "1. 特征值与特征向量\n",
        "2. 主成分分析(PCA)\n",
        "3. 奇异值分解(SVD)\n",
        "4. 实际应用案例\n"
      ]
    },
    {
      "cell_type": "code",
      "execution_count": null,
      "metadata": {},
      "outputs": [],
      "source": [
        "import numpy as np\n",
        "import matplotlib.pyplot as plt\n",
        "from sklearn.decomposition import PCA\n",
        "from sklearn.datasets import load_iris\n",
        "import pandas as pd\n",
        "import matplotlib.font_manager as fm\n",
        "\n",
        "# 智能中文字体设置 - 适配不同操作系统\n",
        "def setup_chinese_font():\n",
        "    \"\"\"设置中文字体，自动检测系统可用字体\"\"\"\n",
        "    # 常见的中文字体列表（按优先级排序）\n",
        "    chinese_fonts = [\n",
        "        'PingFang SC',      # macOS 苹方\n",
        "        'Helvetica',        # macOS 通用\n",
        "        'STHeiti',          # macOS 华文黑体\n",
        "        'Arial Unicode MS', # macOS/Windows\n",
        "        'SimHei',          # Windows 黑体\n",
        "        'Microsoft YaHei', # Windows 微软雅黑\n",
        "        'WenQuanYi Zen Hei', # Linux\n",
        "        'DejaVu Sans'      # 备用（不支持中文，但不会报错）\n",
        "    ]\n",
        "    \n",
        "    # 获取系统可用字体\n",
        "    available_fonts = [f.name for f in fm.fontManager.ttflist]\n",
        "    \n",
        "    # 查找第一个可用的中文字体\n",
        "    for font in chinese_fonts:\n",
        "        if font in available_fonts:\n",
        "            plt.rcParams['font.sans-serif'] = [font]\n",
        "            plt.rcParams['axes.unicode_minus'] = False\n",
        "            print(f\"✅ 使用字体: {font}\")\n",
        "            return font\n",
        "    \n",
        "    # 如果没有找到合适的字体，使用默认设置并提示\n",
        "    print(\"⚠️  未找到中文字体，将使用英文标签\")\n",
        "    plt.rcParams['font.sans-serif'] = ['DejaVu Sans']\n",
        "    plt.rcParams['axes.unicode_minus'] = False\n",
        "    return 'DejaVu Sans'\n",
        "\n",
        "# 设置字体\n",
        "current_font = setup_chinese_font()\n",
        "\n",
        "print(\"🔧 字体设置完成！\")\n",
        "print(\"📦 所有包导入成功！\")\n"
      ]
    },
    {
      "cell_type": "code",
      "execution_count": null,
      "metadata": {},
      "outputs": [],
      "source": [
        "# 检查系统字体（可选运行）\n",
        "def check_chinese_fonts():\n",
        "    \"\"\"检查系统中可用的中文字体\"\"\"\n",
        "    available_fonts = [f.name for f in fm.fontManager.ttflist]\n",
        "    chinese_candidates = ['PingFang', 'STHeiti', 'SimHei', 'Microsoft YaHei', 'Arial Unicode MS', 'Helvetica']\n",
        "    \n",
        "    print(\"🔍 系统中可能支持中文的字体：\")\n",
        "    found_fonts = []\n",
        "    for font_name in available_fonts:\n",
        "        for candidate in chinese_candidates:\n",
        "            if candidate.lower() in font_name.lower():\n",
        "                found_fonts.append(font_name)\n",
        "                break\n",
        "    \n",
        "    if found_fonts:\n",
        "        for font in found_fonts[:10]:  # 只显示前10个\n",
        "            print(f\"  - {font}\")\n",
        "    else:\n",
        "        print(\"  未找到明确的中文字体\")\n",
        "    \n",
        "    print(f\"\\n当前使用字体: {current_font}\")\n",
        "\n",
        "# 运行字体检查\n",
        "check_chinese_fonts()\n"
      ]
    },
    {
      "cell_type": "code",
      "execution_count": null,
      "metadata": {},
      "outputs": [],
      "source": [
        "# 测试字体显示\n",
        "def test_font_display():\n",
        "    \"\"\"测试中文字体显示效果\"\"\"\n",
        "    fig, ax = plt.subplots(figsize=(8, 4))\n",
        "    \n",
        "    # 如果当前字体支持中文，显示中文文本\n",
        "    if current_font not in ['DejaVu Sans']:\n",
        "        test_text = \"测试中文显示: 特征向量、主成分分析\"\n",
        "        ax.text(0.5, 0.6, test_text, fontsize=16, ha='center', va='center')\n",
        "        ax.text(0.5, 0.4, f\"Current Font: {current_font}\", fontsize=12, ha='center', va='center')\n",
        "        ax.set_title(\"Chinese Font Test\")\n",
        "    else:\n",
        "        # 如果不支持中文，显示英文\n",
        "        test_text = \"Font Test: Eigenvalues, Principal Component Analysis\"\n",
        "        ax.text(0.5, 0.6, test_text, fontsize=16, ha='center', va='center')\n",
        "        ax.text(0.5, 0.4, f\"Using: {current_font} (English only)\", fontsize=12, ha='center', va='center')\n",
        "        ax.set_title(\"English Font Test\")\n",
        "    \n",
        "    ax.set_xlim(0, 1)\n",
        "    ax.set_ylim(0, 1)\n",
        "    ax.axis('off')\n",
        "    plt.show()\n",
        "    \n",
        "    # 设置全局变量，用于后续判断是否使用中文标签\n",
        "    global use_chinese_labels\n",
        "    use_chinese_labels = current_font not in ['DejaVu Sans']\n",
        "    \n",
        "    if use_chinese_labels:\n",
        "        print(\"✅ 中文字体测试成功！后续图表将使用中文标签\")\n",
        "    else:\n",
        "        print(\"ℹ️  将使用英文标签，避免字体问题\")\n",
        "\n",
        "test_font_display()\n"
      ]
    },
    {
      "cell_type": "raw",
      "metadata": {
        "vscode": {
          "languageId": "raw"
        }
      },
      "source": [
        "## 1. 特征值与特征向量\n",
        "\n",
        "### 🤔 什么是特征值和特征向量？\n",
        "\n",
        "**简单理解**：\n",
        "- 特征向量 = 矩阵变换后方向不变的向量\n",
        "- 特征值 = 特征向量被拉伸的倍数\n",
        "\n",
        "**数学表达**：对于矩阵 A，如果 Av = λv，那么：\n",
        "- v 是特征向量 (eigenvector)\n",
        "- λ 是特征值 (eigenvalue)\n"
      ]
    },
    {
      "cell_type": "code",
      "execution_count": null,
      "metadata": {},
      "outputs": [],
      "source": [
        "# 创建一个简单的2x2矩阵\n",
        "A = np.array([[3, 1],\n",
        "              [1, 3]])\n",
        "\n",
        "print(\"矩阵 A:\")\n",
        "print(A)\n",
        "\n",
        "# 计算特征值和特征向量\n",
        "eigenvalues, eigenvectors = np.linalg.eig(A)\n",
        "\n",
        "print(\"\\n特征值 (eigenvalues):\", eigenvalues)\n",
        "print(\"\\n特征向量 (eigenvectors):\")\n",
        "print(eigenvectors)\n"
      ]
    },
    {
      "cell_type": "code",
      "execution_count": null,
      "metadata": {},
      "outputs": [],
      "source": [
        "# 验证 Av = λv\n",
        "v1 = eigenvectors[:, 0]  # 第一个特征向量\n",
        "λ1 = eigenvalues[0]      # 第一个特征值\n",
        "\n",
        "print(\"特征向量 v1:\", v1)\n",
        "print(\"特征值 λ1:\", λ1)\n",
        "print(\"\\n验证 Av = λv:\")\n",
        "print(\"Av =\", A @ v1)\n",
        "print(\"λv =\", λ1 * v1)\n",
        "print(\"\\n差异 (应该接近0):\", np.abs(A @ v1 - λ1 * v1))\n"
      ]
    },
    {
      "cell_type": "raw",
      "metadata": {
        "vscode": {
          "languageId": "raw"
        }
      },
      "source": [
        "### 📊 特征向量的几何意义\n",
        "\n",
        "让我们可视化特征向量在矩阵变换前后的变化：\n"
      ]
    },
    {
      "cell_type": "code",
      "execution_count": null,
      "metadata": {},
      "outputs": [],
      "source": [
        "# 可视化特征向量\n",
        "fig, (ax1, ax2) = plt.subplots(1, 2, figsize=(12, 5))\n",
        "\n",
        "# 原始向量\n",
        "v1 = eigenvectors[:, 0]\n",
        "v2 = eigenvectors[:, 1]\n",
        "\n",
        "# 变换后的向量\n",
        "Av1 = A @ v1\n",
        "Av2 = A @ v2\n",
        "\n",
        "# 根据字体支持情况选择标签\n",
        "if use_chinese_labels:\n",
        "    # 中文标签\n",
        "    labels = ['特征向量1', '特征向量2']\n",
        "    titles = ['原始特征向量', '变换后的向量']\n",
        "    feature_text = ['特征1', '特征2']\n",
        "else:\n",
        "    # 英文标签\n",
        "    labels = ['Eigenvector 1', 'Eigenvector 2']\n",
        "    titles = ['Original Eigenvectors', 'Transformed Vectors']\n",
        "    feature_text = ['Feature 1', 'Feature 2']\n",
        "\n",
        "# 绘制原始特征向量\n",
        "ax1.quiver(0, 0, v1[0], v1[1], angles='xy', scale_units='xy', scale=1, \n",
        "          color='red', width=0.01, label=labels[0])\n",
        "ax1.quiver(0, 0, v2[0], v2[1], angles='xy', scale_units='xy', scale=1, \n",
        "          color='blue', width=0.01, label=labels[1])\n",
        "ax1.set_xlim(-1, 1)\n",
        "ax1.set_ylim(-1, 1)\n",
        "ax1.set_title(titles[0])\n",
        "ax1.grid(True)\n",
        "ax1.legend()\n",
        "ax1.set_aspect('equal')\n",
        "\n",
        "# 绘制变换后的向量\n",
        "ax2.quiver(0, 0, Av1[0], Av1[1], angles='xy', scale_units='xy', scale=1, \n",
        "          color='red', width=0.01, label='Av1')\n",
        "ax2.quiver(0, 0, Av2[0], Av2[1], angles='xy', scale_units='xy', scale=1, \n",
        "          color='blue', width=0.01, label='Av2')\n",
        "ax2.set_xlim(-3, 3)\n",
        "ax2.set_ylim(-3, 3)\n",
        "ax2.set_title(titles[1])\n",
        "ax2.grid(True)\n",
        "ax2.legend()\n",
        "ax2.set_aspect('equal')\n",
        "\n",
        "plt.tight_layout()\n",
        "plt.show()\n",
        "\n",
        "print(f\"Eigenvector 1 scaled by: {eigenvalues[0]:.2f}x\")\n",
        "print(f\"Eigenvector 2 scaled by: {eigenvalues[1]:.2f}x\")\n"
      ]
    },
    {
      "cell_type": "raw",
      "metadata": {
        "vscode": {
          "languageId": "raw"
        }
      },
      "source": [
        "## 2. 主成分分析(PCA)\n",
        "\n",
        "### 🤔 什么是PCA？\n",
        "\n",
        "**核心思想**：\n",
        "- 找到数据变化最大的方向\n",
        "- 把高维数据投影到低维空间\n",
        "- 保留最重要的信息，去除噪声\n",
        "\n",
        "**应用场景**：\n",
        "- 降维：减少特征数量\n",
        "- 数据压缩：减少存储空间\n",
        "- 数据可视化：高维数据可视化\n",
        "- 去噪：去除不重要的信息\n"
      ]
    },
    {
      "cell_type": "code",
      "execution_count": null,
      "metadata": {},
      "outputs": [],
      "source": [
        "# 使用鸢尾花数据集演示PCA\n",
        "iris = load_iris()\n",
        "X = iris.data  # 4个特征\n",
        "y = iris.target\n",
        "\n",
        "print(\"Original data shape:\", X.shape)\n",
        "print(\"Feature names:\", iris.feature_names)\n",
        "print(\"\\nFirst 5 rows:\")\n",
        "print(X[:5])\n"
      ]
    },
    {
      "cell_type": "code",
      "execution_count": null,
      "metadata": {},
      "outputs": [],
      "source": [
        "# 应用PCA降维\n",
        "pca = PCA(n_components=2)  # 降到2维\n",
        "X_pca = pca.fit_transform(X)\n",
        "\n",
        "print(\"PCA后数据形状:\", X_pca.shape)\n",
        "print(\"\\n各主成分解释的方差比例:\")\n",
        "print(pca.explained_variance_ratio_)\n",
        "print(f\"\\n前2个主成分解释了 {pca.explained_variance_ratio_.sum():.2%} 的方差\")\n"
      ]
    },
    {
      "cell_type": "code",
      "execution_count": null,
      "metadata": {},
      "outputs": [],
      "source": [
        "# 可视化PCA结果\n",
        "plt.figure(figsize=(10, 6))\n",
        "\n",
        "colors = ['red', 'green', 'blue']\n",
        "target_names = iris.target_names\n",
        "\n",
        "for i, color, target_name in zip(range(3), colors, target_names):\n",
        "    plt.scatter(X_pca[y == i, 0], X_pca[y == i, 1], \n",
        "               c=color, label=target_name, alpha=0.7)\n",
        "\n",
        "# 根据字体支持选择标签\n",
        "if use_chinese_labels:\n",
        "    xlabel = f'第1主成分 ({pca.explained_variance_ratio_[0]:.2%} 方差)'\n",
        "    ylabel = f'第2主成分 ({pca.explained_variance_ratio_[1]:.2%} 方差)'\n",
        "    title = 'PCA降维后的鸢尾花数据'\n",
        "    obs_text = \"🎯 观察：不同类别的花在主成分空间中有明显的分离！\"\n",
        "else:\n",
        "    xlabel = f'PC1 ({pca.explained_variance_ratio_[0]:.2%} variance)'\n",
        "    ylabel = f'PC2 ({pca.explained_variance_ratio_[1]:.2%} variance)'\n",
        "    title = 'PCA Visualization of Iris Dataset'\n",
        "    obs_text = \"🎯 Observation: Different flower types are clearly separated in PC space!\"\n",
        "\n",
        "plt.xlabel(xlabel)\n",
        "plt.ylabel(ylabel)\n",
        "plt.title(title)\n",
        "plt.legend()\n",
        "plt.grid(True, alpha=0.3)\n",
        "plt.show()\n",
        "\n",
        "print(obs_text)\n"
      ]
    },
    {
      "cell_type": "raw",
      "metadata": {
        "vscode": {
          "languageId": "raw"
        }
      },
      "source": [
        "### 🔍 PCA的数学原理\n",
        "\n",
        "让我们手动实现PCA的核心步骤，理解其背后的数学原理：\n",
        "\n",
        "1. **数据中心化**：减去均值\n",
        "2. **计算协方差矩阵**：衡量特征间的相关性\n",
        "3. **特征值分解**：找到主要方向\n",
        "4. **选择主成分**：按重要性排序\n",
        "5. **数据投影**：变换到新的坐标系\n"
      ]
    },
    {
      "cell_type": "code",
      "execution_count": null,
      "metadata": {},
      "outputs": [],
      "source": [
        "# 手动实现PCA的核心步骤\n",
        "\n",
        "print(\"🔍 Manual PCA Implementation:\")\n",
        "print(\"=\"*40)\n",
        "\n",
        "# 1. 数据标准化\n",
        "X_centered = X - np.mean(X, axis=0)\n",
        "print(\"✅ Step 1: Data centering completed\")\n",
        "\n",
        "# 2. 计算协方差矩阵\n",
        "cov_matrix = np.cov(X_centered.T)\n",
        "print(f\"✅ Step 2: Covariance matrix shape: {cov_matrix.shape}\")\n",
        "\n",
        "# 3. 计算特征值和特征向量\n",
        "eigenvalues, eigenvectors = np.linalg.eig(cov_matrix)\n",
        "print(\"✅ Step 3: Eigenvalue decomposition completed\")\n",
        "\n",
        "# 4. 按特征值大小排序\n",
        "idx = np.argsort(eigenvalues)[::-1]\n",
        "eigenvalues_sorted = eigenvalues[idx]\n",
        "eigenvectors_sorted = eigenvectors[:, idx]\n",
        "print(\"✅ Step 4: Sorted by eigenvalues\")\n",
        "\n",
        "print(f\"\\nEigenvalues (sorted): {eigenvalues_sorted}\")\n",
        "print(f\"Variance ratios: {eigenvalues_sorted / np.sum(eigenvalues_sorted)}\")\n"
      ]
    },
    {
      "cell_type": "code",
      "execution_count": null,
      "metadata": {},
      "outputs": [],
      "source": [
        "# 5. 选择前两个主成分进行投影\n",
        "W = eigenvectors_sorted[:, :2]  # 选择前两个特征向量\n",
        "X_pca_manual = X_centered @ W\n",
        "print(\"✅ Step 5: Data projection completed\")\n",
        "\n",
        "print(f\"\\nManual PCA result shape: {X_pca_manual.shape}\")\n",
        "print(f\"Sklearn PCA result shape: {X_pca.shape}\")\n",
        "\n",
        "# 验证结果（可能有符号差异，但绝对值应该相同）\n",
        "difference = np.min([\n",
        "    np.max(np.abs(X_pca_manual - X_pca)),\n",
        "    np.max(np.abs(X_pca_manual + X_pca))  # 考虑符号翻转\n",
        "])\n",
        "\n",
        "print(f\"Maximum difference with sklearn: {difference:.10f}\")\n",
        "if difference < 1e-10:\n",
        "    print(\"✅ Manual implementation matches sklearn PCA!\")\n",
        "else:\n",
        "    print(\"⚠️  Small differences due to numerical precision or sign conventions\")\n"
      ]
    },
    {
      "cell_type": "raw",
      "metadata": {
        "vscode": {
          "languageId": "raw"
        }
      },
      "source": [
        "## 📝 今日总结\n",
        "\n",
        "### ✅ 你学到了什么？\n",
        "\n",
        "1. **特征值和特征向量**：\n",
        "   - 特征向量是变换后方向不变的向量\n",
        "   - 特征值是变换的缩放倍数\n",
        "   - 可以用 `np.linalg.eig()` 计算\n",
        "\n",
        "2. **主成分分析(PCA)**：\n",
        "   - 找到数据变化最大的方向\n",
        "   - 用于降维、可视化、去噪\n",
        "   - 可以用 `sklearn.decomposition.PCA` 实现\n",
        "\n",
        "### 🎯 实际应用\n",
        "\n",
        "- **数据预处理**：降维减少计算量\n",
        "- **特征工程**：提取主要特征\n",
        "- **数据可视化**：高维数据可视化\n",
        "\n",
        "### 🚀 下一步\n",
        "\n",
        "现在你已经掌握了线性代数的核心概念，可以开始学习：\n",
        "- 机器学习算法（线性回归、分类）\n",
        "- 神经网络基础\n",
        "- 深度学习框架\n",
        "\n",
        "### 🔧 关于字体设置\n",
        "\n",
        "如果你在运行过程中遇到中文字体问题，这是正常的。我们的代码会自动：\n",
        "- 检测系统可用字体\n",
        "- 优先使用中文字体（如PingFang SC）\n",
        "- 如果不可用，自动切换到英文标签\n",
        "- 确保图表正常显示\n"
      ]
    },
    {
      "cell_type": "markdown",
      "metadata": {
        "vscode": {
          "languageId": "raw"
        }
      },
      "source": [
        "# 第7天 - 线性代数进阶\n",
        "\n",
        "## 🎯 今日目标\n",
        "- 理解特征值和特征向量的概念\n",
        "- 掌握PCA降维的基本原理\n",
        "- 学会用NumPy实现线性代数算法\n",
        "- 理解在机器学习中的应用\n",
        "\n",
        "## 📚 学习内容\n",
        "1. 特征值与特征向量\n",
        "2. 主成分分析(PCA)\n",
        "3. 奇异值分解(SVD)\n",
        "4. 实际应用案例\n"
      ]
    },
    {
      "cell_type": "code",
      "execution_count": 1,
      "metadata": {},
      "outputs": [
        {
          "name": "stdout",
          "output_type": "stream",
          "text": [
            "✅ 所有包导入成功！\n"
          ]
        }
      ],
      "source": [
        "import numpy as np\n",
        "import matplotlib.pyplot as plt\n",
        "from sklearn.decomposition import PCA\n",
        "from sklearn.datasets import load_iris\n",
        "import pandas as pd\n",
        "\n",
        "# 设置中文字体\n",
        "plt.rcParams['font.sans-serif'] = ['SimHei']\n",
        "plt.rcParams['axes.unicode_minus'] = False\n",
        "\n",
        "print(\"✅ 所有包导入成功！\")\n"
      ]
    },
    {
      "cell_type": "markdown",
      "metadata": {
        "vscode": {
          "languageId": "raw"
        }
      },
      "source": [
        "## 1. 特征值与特征向量\n",
        "\n",
        "### 🤔 什么是特征值和特征向量？\n",
        "\n",
        "**简单理解**：\n",
        "- 特征向量 = 矩阵变换后方向不变的向量\n",
        "- 特征值 = 特征向量被拉伸的倍数\n",
        "\n",
        "**数学表达**：对于矩阵 A，如果 Av = λv，那么：\n",
        "- v 是特征向量\n",
        "- λ 是特征值\n"
      ]
    },
    {
      "cell_type": "code",
      "execution_count": 2,
      "metadata": {},
      "outputs": [
        {
          "name": "stdout",
          "output_type": "stream",
          "text": [
            "矩阵 A:\n",
            "[[3 1]\n",
            " [1 3]]\n",
            "\n",
            "特征值: [4. 2.]\n",
            "\n",
            "特征向量:\n",
            "[[ 0.70710678 -0.70710678]\n",
            " [ 0.70710678  0.70710678]]\n"
          ]
        }
      ],
      "source": [
        "# 创建一个简单的2x2矩阵\n",
        "A = np.array([[3, 1],\n",
        "              [1, 3]])\n",
        "\n",
        "print(\"矩阵 A:\")\n",
        "print(A)\n",
        "\n",
        "# 计算特征值和特征向量\n",
        "eigenvalues, eigenvectors = np.linalg.eig(A)\n",
        "\n",
        "print(\"\\n特征值:\", eigenvalues)\n",
        "print(\"\\n特征向量:\")\n",
        "print(eigenvectors)\n"
      ]
    },
    {
      "cell_type": "code",
      "execution_count": 3,
      "metadata": {},
      "outputs": [
        {
          "name": "stdout",
          "output_type": "stream",
          "text": [
            "特征向量 v1: [0.70710678 0.70710678]\n",
            "特征值 λ1: 4.0\n",
            "\n",
            "验证 Av = λv:\n",
            "Av = [2.82842712 2.82842712]\n",
            "λv = [2.82842712 2.82842712]\n",
            "\n",
            "差异: [0. 0.]\n"
          ]
        }
      ],
      "source": [
        "# 验证 Av = λv\n",
        "v1 = eigenvectors[:, 0]  # 第一个特征向量\n",
        "λ1 = eigenvalues[0]      # 第一个特征值\n",
        "\n",
        "print(\"特征向量 v1:\", v1)\n",
        "print(\"特征值 λ1:\", λ1)\n",
        "print(\"\\n验证 Av = λv:\")\n",
        "print(\"Av =\", A @ v1)\n",
        "print(\"λv =\", λ1 * v1)\n",
        "print(\"\\n差异:\", np.abs(A @ v1 - λ1 * v1))\n"
      ]
    },
    {
      "cell_type": "markdown",
      "metadata": {
        "vscode": {
          "languageId": "raw"
        }
      },
      "source": [
        "### 📊 特征向量的几何意义\n"
      ]
    },
    {
      "cell_type": "code",
      "execution_count": 4,
      "metadata": {},
      "outputs": [
        {
          "name": "stderr",
          "output_type": "stream",
          "text": [
            "findfont: Generic family 'sans-serif' not found because none of the following families were found: SimHei\n",
            "findfont: Generic family 'sans-serif' not found because none of the following families were found: SimHei\n",
            "findfont: Generic family 'sans-serif' not found because none of the following families were found: SimHei\n",
            "findfont: Generic family 'sans-serif' not found because none of the following families were found: SimHei\n",
            "findfont: Generic family 'sans-serif' not found because none of the following families were found: SimHei\n",
            "findfont: Generic family 'sans-serif' not found because none of the following families were found: SimHei\n",
            "findfont: Generic family 'sans-serif' not found because none of the following families were found: SimHei\n",
            "findfont: Generic family 'sans-serif' not found because none of the following families were found: SimHei\n",
            "findfont: Generic family 'sans-serif' not found because none of the following families were found: SimHei\n",
            "findfont: Generic family 'sans-serif' not found because none of the following families were found: SimHei\n",
            "findfont: Generic family 'sans-serif' not found because none of the following families were found: SimHei\n",
            "findfont: Generic family 'sans-serif' not found because none of the following families were found: SimHei\n",
            "/var/folders/30/j26l_l5j1g3f7ldvbdc9q4240000gn/T/ipykernel_50452/30994081.py:32: UserWarning: Glyph 21407 (\\N{CJK UNIFIED IDEOGRAPH-539F}) missing from font(s) DejaVu Sans.\n",
            "  plt.tight_layout()\n",
            "/var/folders/30/j26l_l5j1g3f7ldvbdc9q4240000gn/T/ipykernel_50452/30994081.py:32: UserWarning: Glyph 22987 (\\N{CJK UNIFIED IDEOGRAPH-59CB}) missing from font(s) DejaVu Sans.\n",
            "  plt.tight_layout()\n",
            "/var/folders/30/j26l_l5j1g3f7ldvbdc9q4240000gn/T/ipykernel_50452/30994081.py:32: UserWarning: Glyph 29305 (\\N{CJK UNIFIED IDEOGRAPH-7279}) missing from font(s) DejaVu Sans.\n",
            "  plt.tight_layout()\n",
            "/var/folders/30/j26l_l5j1g3f7ldvbdc9q4240000gn/T/ipykernel_50452/30994081.py:32: UserWarning: Glyph 24449 (\\N{CJK UNIFIED IDEOGRAPH-5F81}) missing from font(s) DejaVu Sans.\n",
            "  plt.tight_layout()\n",
            "/var/folders/30/j26l_l5j1g3f7ldvbdc9q4240000gn/T/ipykernel_50452/30994081.py:32: UserWarning: Glyph 21521 (\\N{CJK UNIFIED IDEOGRAPH-5411}) missing from font(s) DejaVu Sans.\n",
            "  plt.tight_layout()\n",
            "/var/folders/30/j26l_l5j1g3f7ldvbdc9q4240000gn/T/ipykernel_50452/30994081.py:32: UserWarning: Glyph 37327 (\\N{CJK UNIFIED IDEOGRAPH-91CF}) missing from font(s) DejaVu Sans.\n",
            "  plt.tight_layout()\n",
            "findfont: Generic family 'sans-serif' not found because none of the following families were found: SimHei\n",
            "findfont: Generic family 'sans-serif' not found because none of the following families were found: SimHei\n",
            "findfont: Generic family 'sans-serif' not found because none of the following families were found: SimHei\n",
            "findfont: Generic family 'sans-serif' not found because none of the following families were found: SimHei\n",
            "findfont: Generic family 'sans-serif' not found because none of the following families were found: SimHei\n",
            "findfont: Generic family 'sans-serif' not found because none of the following families were found: SimHei\n",
            "findfont: Generic family 'sans-serif' not found because none of the following families were found: SimHei\n",
            "findfont: Generic family 'sans-serif' not found because none of the following families were found: SimHei\n",
            "findfont: Generic family 'sans-serif' not found because none of the following families were found: SimHei\n",
            "findfont: Generic family 'sans-serif' not found because none of the following families were found: SimHei\n",
            "findfont: Generic family 'sans-serif' not found because none of the following families were found: SimHei\n",
            "findfont: Generic family 'sans-serif' not found because none of the following families were found: SimHei\n",
            "/var/folders/30/j26l_l5j1g3f7ldvbdc9q4240000gn/T/ipykernel_50452/30994081.py:32: UserWarning: Glyph 21464 (\\N{CJK UNIFIED IDEOGRAPH-53D8}) missing from font(s) DejaVu Sans.\n",
            "  plt.tight_layout()\n",
            "/var/folders/30/j26l_l5j1g3f7ldvbdc9q4240000gn/T/ipykernel_50452/30994081.py:32: UserWarning: Glyph 25442 (\\N{CJK UNIFIED IDEOGRAPH-6362}) missing from font(s) DejaVu Sans.\n",
            "  plt.tight_layout()\n",
            "/var/folders/30/j26l_l5j1g3f7ldvbdc9q4240000gn/T/ipykernel_50452/30994081.py:32: UserWarning: Glyph 21518 (\\N{CJK UNIFIED IDEOGRAPH-540E}) missing from font(s) DejaVu Sans.\n",
            "  plt.tight_layout()\n",
            "/var/folders/30/j26l_l5j1g3f7ldvbdc9q4240000gn/T/ipykernel_50452/30994081.py:32: UserWarning: Glyph 30340 (\\N{CJK UNIFIED IDEOGRAPH-7684}) missing from font(s) DejaVu Sans.\n",
            "  plt.tight_layout()\n",
            "findfont: Generic family 'sans-serif' not found because none of the following families were found: SimHei\n",
            "findfont: Generic family 'sans-serif' not found because none of the following families were found: SimHei\n",
            "findfont: Generic family 'sans-serif' not found because none of the following families were found: SimHei\n",
            "findfont: Generic family 'sans-serif' not found because none of the following families were found: SimHei\n",
            "findfont: Generic family 'sans-serif' not found because none of the following families were found: SimHei\n",
            "findfont: Generic family 'sans-serif' not found because none of the following families were found: SimHei\n",
            "findfont: Generic family 'sans-serif' not found because none of the following families were found: SimHei\n",
            "findfont: Generic family 'sans-serif' not found because none of the following families were found: SimHei\n",
            "findfont: Generic family 'sans-serif' not found because none of the following families were found: SimHei\n",
            "findfont: Generic family 'sans-serif' not found because none of the following families were found: SimHei\n",
            "findfont: Generic family 'sans-serif' not found because none of the following families were found: SimHei\n",
            "findfont: Generic family 'sans-serif' not found because none of the following families were found: SimHei\n",
            "findfont: Generic family 'sans-serif' not found because none of the following families were found: SimHei\n",
            "findfont: Generic family 'sans-serif' not found because none of the following families were found: SimHei\n",
            "findfont: Generic family 'sans-serif' not found because none of the following families were found: SimHei\n",
            "findfont: Generic family 'sans-serif' not found because none of the following families were found: SimHei\n",
            "findfont: Generic family 'sans-serif' not found because none of the following families were found: SimHei\n",
            "findfont: Generic family 'sans-serif' not found because none of the following families were found: SimHei\n",
            "findfont: Generic family 'sans-serif' not found because none of the following families were found: SimHei\n",
            "findfont: Generic family 'sans-serif' not found because none of the following families were found: SimHei\n",
            "findfont: Generic family 'sans-serif' not found because none of the following families were found: SimHei\n",
            "findfont: Generic family 'sans-serif' not found because none of the following families were found: SimHei\n",
            "findfont: Generic family 'sans-serif' not found because none of the following families were found: SimHei\n",
            "findfont: Generic family 'sans-serif' not found because none of the following families were found: SimHei\n",
            "findfont: Generic family 'sans-serif' not found because none of the following families were found: SimHei\n",
            "findfont: Generic family 'sans-serif' not found because none of the following families were found: SimHei\n",
            "findfont: Generic family 'sans-serif' not found because none of the following families were found: SimHei\n",
            "findfont: Generic family 'sans-serif' not found because none of the following families were found: SimHei\n",
            "findfont: Generic family 'sans-serif' not found because none of the following families were found: SimHei\n",
            "findfont: Generic family 'sans-serif' not found because none of the following families were found: SimHei\n",
            "findfont: Generic family 'sans-serif' not found because none of the following families were found: SimHei\n",
            "findfont: Generic family 'sans-serif' not found because none of the following families were found: SimHei\n",
            "findfont: Generic family 'sans-serif' not found because none of the following families were found: SimHei\n",
            "findfont: Generic family 'sans-serif' not found because none of the following families were found: SimHei\n",
            "findfont: Generic family 'sans-serif' not found because none of the following families were found: SimHei\n",
            "findfont: Generic family 'sans-serif' not found because none of the following families were found: SimHei\n",
            "findfont: Generic family 'sans-serif' not found because none of the following families were found: SimHei\n",
            "findfont: Generic family 'sans-serif' not found because none of the following families were found: SimHei\n",
            "findfont: Generic family 'sans-serif' not found because none of the following families were found: SimHei\n",
            "findfont: Generic family 'sans-serif' not found because none of the following families were found: SimHei\n",
            "/opt/anaconda3/envs/ml_learning/lib/python3.9/site-packages/IPython/core/pylabtools.py:152: UserWarning: Glyph 21407 (\\N{CJK UNIFIED IDEOGRAPH-539F}) missing from font(s) DejaVu Sans.\n",
            "  fig.canvas.print_figure(bytes_io, **kw)\n",
            "/opt/anaconda3/envs/ml_learning/lib/python3.9/site-packages/IPython/core/pylabtools.py:152: UserWarning: Glyph 22987 (\\N{CJK UNIFIED IDEOGRAPH-59CB}) missing from font(s) DejaVu Sans.\n",
            "  fig.canvas.print_figure(bytes_io, **kw)\n",
            "/opt/anaconda3/envs/ml_learning/lib/python3.9/site-packages/IPython/core/pylabtools.py:152: UserWarning: Glyph 29305 (\\N{CJK UNIFIED IDEOGRAPH-7279}) missing from font(s) DejaVu Sans.\n",
            "  fig.canvas.print_figure(bytes_io, **kw)\n",
            "/opt/anaconda3/envs/ml_learning/lib/python3.9/site-packages/IPython/core/pylabtools.py:152: UserWarning: Glyph 24449 (\\N{CJK UNIFIED IDEOGRAPH-5F81}) missing from font(s) DejaVu Sans.\n",
            "  fig.canvas.print_figure(bytes_io, **kw)\n",
            "/opt/anaconda3/envs/ml_learning/lib/python3.9/site-packages/IPython/core/pylabtools.py:152: UserWarning: Glyph 21521 (\\N{CJK UNIFIED IDEOGRAPH-5411}) missing from font(s) DejaVu Sans.\n",
            "  fig.canvas.print_figure(bytes_io, **kw)\n",
            "/opt/anaconda3/envs/ml_learning/lib/python3.9/site-packages/IPython/core/pylabtools.py:152: UserWarning: Glyph 37327 (\\N{CJK UNIFIED IDEOGRAPH-91CF}) missing from font(s) DejaVu Sans.\n",
            "  fig.canvas.print_figure(bytes_io, **kw)\n",
            "findfont: Generic family 'sans-serif' not found because none of the following families were found: SimHei\n",
            "findfont: Generic family 'sans-serif' not found because none of the following families were found: SimHei\n",
            "findfont: Generic family 'sans-serif' not found because none of the following families were found: SimHei\n",
            "findfont: Generic family 'sans-serif' not found because none of the following families were found: SimHei\n",
            "findfont: Generic family 'sans-serif' not found because none of the following families were found: SimHei\n",
            "findfont: Generic family 'sans-serif' not found because none of the following families were found: SimHei\n",
            "findfont: Generic family 'sans-serif' not found because none of the following families were found: SimHei\n",
            "findfont: Generic family 'sans-serif' not found because none of the following families were found: SimHei\n",
            "findfont: Generic family 'sans-serif' not found because none of the following families were found: SimHei\n",
            "findfont: Generic family 'sans-serif' not found because none of the following families were found: SimHei\n",
            "findfont: Generic family 'sans-serif' not found because none of the following families were found: SimHei\n",
            "findfont: Generic family 'sans-serif' not found because none of the following families were found: SimHei\n",
            "findfont: Generic family 'sans-serif' not found because none of the following families were found: SimHei\n",
            "findfont: Generic family 'sans-serif' not found because none of the following families were found: SimHei\n",
            "findfont: Generic family 'sans-serif' not found because none of the following families were found: SimHei\n",
            "findfont: Generic family 'sans-serif' not found because none of the following families were found: SimHei\n",
            "findfont: Generic family 'sans-serif' not found because none of the following families were found: SimHei\n",
            "findfont: Generic family 'sans-serif' not found because none of the following families were found: SimHei\n",
            "findfont: Generic family 'sans-serif' not found because none of the following families were found: SimHei\n",
            "findfont: Generic family 'sans-serif' not found because none of the following families were found: SimHei\n",
            "findfont: Generic family 'sans-serif' not found because none of the following families were found: SimHei\n",
            "findfont: Generic family 'sans-serif' not found because none of the following families were found: SimHei\n",
            "findfont: Generic family 'sans-serif' not found because none of the following families were found: SimHei\n",
            "findfont: Generic family 'sans-serif' not found because none of the following families were found: SimHei\n",
            "findfont: Generic family 'sans-serif' not found because none of the following families were found: SimHei\n",
            "findfont: Generic family 'sans-serif' not found because none of the following families were found: SimHei\n",
            "findfont: Generic family 'sans-serif' not found because none of the following families were found: SimHei\n",
            "findfont: Generic family 'sans-serif' not found because none of the following families were found: SimHei\n",
            "findfont: Generic family 'sans-serif' not found because none of the following families were found: SimHei\n",
            "findfont: Generic family 'sans-serif' not found because none of the following families were found: SimHei\n",
            "findfont: Generic family 'sans-serif' not found because none of the following families were found: SimHei\n",
            "findfont: Generic family 'sans-serif' not found because none of the following families were found: SimHei\n",
            "findfont: Generic family 'sans-serif' not found because none of the following families were found: SimHei\n",
            "findfont: Generic family 'sans-serif' not found because none of the following families were found: SimHei\n",
            "findfont: Generic family 'sans-serif' not found because none of the following families were found: SimHei\n",
            "findfont: Generic family 'sans-serif' not found because none of the following families were found: SimHei\n",
            "findfont: Generic family 'sans-serif' not found because none of the following families were found: SimHei\n",
            "findfont: Generic family 'sans-serif' not found because none of the following families were found: SimHei\n",
            "findfont: Generic family 'sans-serif' not found because none of the following families were found: SimHei\n",
            "findfont: Generic family 'sans-serif' not found because none of the following families were found: SimHei\n",
            "findfont: Generic family 'sans-serif' not found because none of the following families were found: SimHei\n",
            "/opt/anaconda3/envs/ml_learning/lib/python3.9/site-packages/IPython/core/pylabtools.py:152: UserWarning: Glyph 21464 (\\N{CJK UNIFIED IDEOGRAPH-53D8}) missing from font(s) DejaVu Sans.\n",
            "  fig.canvas.print_figure(bytes_io, **kw)\n",
            "/opt/anaconda3/envs/ml_learning/lib/python3.9/site-packages/IPython/core/pylabtools.py:152: UserWarning: Glyph 25442 (\\N{CJK UNIFIED IDEOGRAPH-6362}) missing from font(s) DejaVu Sans.\n",
            "  fig.canvas.print_figure(bytes_io, **kw)\n",
            "/opt/anaconda3/envs/ml_learning/lib/python3.9/site-packages/IPython/core/pylabtools.py:152: UserWarning: Glyph 21518 (\\N{CJK UNIFIED IDEOGRAPH-540E}) missing from font(s) DejaVu Sans.\n",
            "  fig.canvas.print_figure(bytes_io, **kw)\n",
            "/opt/anaconda3/envs/ml_learning/lib/python3.9/site-packages/IPython/core/pylabtools.py:152: UserWarning: Glyph 30340 (\\N{CJK UNIFIED IDEOGRAPH-7684}) missing from font(s) DejaVu Sans.\n",
            "  fig.canvas.print_figure(bytes_io, **kw)\n",
            "findfont: Generic family 'sans-serif' not found because none of the following families were found: SimHei\n",
            "findfont: Generic family 'sans-serif' not found because none of the following families were found: SimHei\n",
            "findfont: Generic family 'sans-serif' not found because none of the following families were found: SimHei\n",
            "findfont: Generic family 'sans-serif' not found because none of the following families were found: SimHei\n",
            "findfont: Generic family 'sans-serif' not found because none of the following families were found: SimHei\n",
            "findfont: Generic family 'sans-serif' not found because none of the following families were found: SimHei\n",
            "findfont: Generic family 'sans-serif' not found because none of the following families were found: SimHei\n",
            "findfont: Generic family 'sans-serif' not found because none of the following families were found: SimHei\n",
            "findfont: Generic family 'sans-serif' not found because none of the following families were found: SimHei\n",
            "findfont: Generic family 'sans-serif' not found because none of the following families were found: SimHei\n",
            "findfont: Generic family 'sans-serif' not found because none of the following families were found: SimHei\n",
            "findfont: Generic family 'sans-serif' not found because none of the following families were found: SimHei\n",
            "findfont: Generic family 'sans-serif' not found because none of the following families were found: SimHei\n",
            "findfont: Generic family 'sans-serif' not found because none of the following families were found: SimHei\n",
            "findfont: Generic family 'sans-serif' not found because none of the following families were found: SimHei\n",
            "findfont: Generic family 'sans-serif' not found because none of the following families were found: SimHei\n",
            "findfont: Generic family 'sans-serif' not found because none of the following families were found: SimHei\n",
            "findfont: Generic family 'sans-serif' not found because none of the following families were found: SimHei\n",
            "findfont: Generic family 'sans-serif' not found because none of the following families were found: SimHei\n",
            "findfont: Generic family 'sans-serif' not found because none of the following families were found: SimHei\n",
            "findfont: Generic family 'sans-serif' not found because none of the following families were found: SimHei\n",
            "findfont: Generic family 'sans-serif' not found because none of the following families were found: SimHei\n",
            "findfont: Generic family 'sans-serif' not found because none of the following families were found: SimHei\n",
            "findfont: Generic family 'sans-serif' not found because none of the following families were found: SimHei\n",
            "findfont: Generic family 'sans-serif' not found because none of the following families were found: SimHei\n",
            "findfont: Generic family 'sans-serif' not found because none of the following families were found: SimHei\n",
            "findfont: Generic family 'sans-serif' not found because none of the following families were found: SimHei\n",
            "findfont: Generic family 'sans-serif' not found because none of the following families were found: SimHei\n",
            "findfont: Generic family 'sans-serif' not found because none of the following families were found: SimHei\n"
          ]
        },
        {
          "data": {
            "image/png": "[encoded data removed]",
            "text/plain": [
              "<Figure size 1200x500 with 2 Axes>"
            ]
          },
          "metadata": {},
          "output_type": "display_data"
        },
        {
          "name": "stdout",
          "output_type": "stream",
          "text": [
            "特征向量1被拉伸了 4.00 倍\n",
            "特征向量2被拉伸了 2.00 倍\n"
          ]
        }
      ],
      "source": [
        "# 可视化特征向量\n",
        "fig, (ax1, ax2) = plt.subplots(1, 2, figsize=(12, 5))\n",
        "\n",
        "# 原始向量\n",
        "v1 = eigenvectors[:, 0]\n",
        "v2 = eigenvectors[:, 1]\n",
        "\n",
        "# 变换后的向量\n",
        "Av1 = A @ v1\n",
        "Av2 = A @ v2\n",
        "\n",
        "# 绘制原始特征向量\n",
        "ax1.quiver(0, 0, v1[0], v1[1], angles='xy', scale_units='xy', scale=1, color='red', width=0.01, label='特征向量1')\n",
        "ax1.quiver(0, 0, v2[0], v2[1], angles='xy', scale_units='xy', scale=1, color='blue', width=0.01, label='特征向量2')\n",
        "ax1.set_xlim(-1, 1)\n",
        "ax1.set_ylim(-1, 1)\n",
        "ax1.set_title('原始特征向量')\n",
        "ax1.grid(True)\n",
        "ax1.legend()\n",
        "ax1.set_aspect('equal')\n",
        "\n",
        "# 绘制变换后的向量\n",
        "ax2.quiver(0, 0, Av1[0], Av1[1], angles='xy', scale_units='xy', scale=1, color='red', width=0.01, label='Av1')\n",
        "ax2.quiver(0, 0, Av2[0], Av2[1], angles='xy', scale_units='xy', scale=1, color='blue', width=0.01, label='Av2')\n",
        "ax2.set_xlim(-3, 3)\n",
        "ax2.set_ylim(-3, 3)\n",
        "ax2.set_title('变换后的向量')\n",
        "ax2.grid(True)\n",
        "ax2.legend()\n",
        "ax2.set_aspect('equal')\n",
        "\n",
        "plt.tight_layout()\n",
        "plt.show()\n",
        "\n",
        "print(f\"特征向量1被拉伸了 {eigenvalues[0]:.2f} 倍\")\n",
        "print(f\"特征向量2被拉伸了 {eigenvalues[1]:.2f} 倍\")\n"
      ]
    },
    {
      "cell_type": "raw",
      "metadata": {
        "vscode": {
          "languageId": "raw"
        }
      },
      "source": [
        "## 2. 主成分分析(PCA)\n",
        "\n",
        "### 🤔 什么是PCA？\n",
        "\n",
        "**核心思想**：\n",
        "- 找到数据变化最大的方向\n",
        "- 把高维数据投影到低维空间\n",
        "- 保留最重要的信息，去除噪声\n",
        "\n",
        "**应用场景**：\n",
        "- 降维：减少特征数量\n",
        "- 数据压缩：减少存储空间\n",
        "- 数据可视化：高维数据可视化\n",
        "- 去噪：去除不重要的信息\n"
      ]
    },
    {
      "cell_type": "code",
      "execution_count": null,
      "metadata": {},
      "outputs": [],
      "source": [
        "# 使用鸢尾花数据集演示PCA\n",
        "iris = load_iris()\n",
        "X = iris.data  # 4个特征\n",
        "y = iris.target\n",
        "\n",
        "print(\"原始数据形状:\", X.shape)\n",
        "print(\"特征名称:\", iris.feature_names)\n",
        "print(\"\\n前5行数据:\")\n",
        "print(X[:5])\n"
      ]
    },
    {
      "cell_type": "code",
      "execution_count": null,
      "metadata": {},
      "outputs": [],
      "source": [
        "# 应用PCA降维\n",
        "pca = PCA(n_components=2)  # 降到2维\n",
        "X_pca = pca.fit_transform(X)\n",
        "\n",
        "print(\"PCA后数据形状:\", X_pca.shape)\n",
        "print(\"\\n各主成分解释的方差比例:\")\n",
        "print(pca.explained_variance_ratio_)\n",
        "print(f\"\\n前2个主成分解释了 {pca.explained_variance_ratio_.sum():.2%} 的方差\")\n"
      ]
    },
    {
      "cell_type": "code",
      "execution_count": null,
      "metadata": {},
      "outputs": [],
      "source": [
        "# 可视化PCA结果\n",
        "plt.figure(figsize=(10, 6))\n",
        "\n",
        "colors = ['red', 'green', 'blue']\n",
        "target_names = iris.target_names\n",
        "\n",
        "for i, color, target_name in zip(range(3), colors, target_names):\n",
        "    plt.scatter(X_pca[y == i, 0], X_pca[y == i, 1], \n",
        "               c=color, label=target_name, alpha=0.7)\n",
        "\n",
        "plt.xlabel(f'第1主成分 ({pca.explained_variance_ratio_[0]:.2%} 方差)')\n",
        "plt.ylabel(f'第2主成分 ({pca.explained_variance_ratio_[1]:.2%} 方差)')\n",
        "plt.title('PCA降维后的鸢尾花数据')\n",
        "plt.legend()\n",
        "plt.grid(True, alpha=0.3)\n",
        "plt.show()\n",
        "\n",
        "print(\"🎯 观察：不同类别的花在主成分空间中有明显的分离！\")\n"
      ]
    },
    {
      "cell_type": "raw",
      "metadata": {
        "vscode": {
          "languageId": "raw"
        }
      },
      "source": [
        "### 🔍 PCA的数学原理\n"
      ]
    },
    {
      "cell_type": "code",
      "execution_count": null,
      "metadata": {},
      "outputs": [],
      "source": [
        "# 手动实现PCA的核心步骤\n",
        "\n",
        "# 1. 数据标准化\n",
        "X_centered = X - np.mean(X, axis=0)\n",
        "\n",
        "# 2. 计算协方差矩阵\n",
        "cov_matrix = np.cov(X_centered.T)\n",
        "print(\"协方差矩阵形状:\", cov_matrix.shape)\n",
        "\n",
        "# 3. 计算特征值和特征向量\n",
        "eigenvalues, eigenvectors = np.linalg.eig(cov_matrix)\n",
        "\n",
        "# 4. 按特征值大小排序\n",
        "idx = np.argsort(eigenvalues)[::-1]\n",
        "eigenvalues = eigenvalues[idx]\n",
        "eigenvectors = eigenvectors[:, idx]\n",
        "\n",
        "print(\"\\n特征值（按大小排序）:\")\n",
        "print(eigenvalues)\n",
        "print(\"\\n方差解释比例:\")\n",
        "print(eigenvalues / np.sum(eigenvalues))\n"
      ]
    },
    {
      "cell_type": "code",
      "execution_count": null,
      "metadata": {},
      "outputs": [],
      "source": [
        "# 5. 选择前两个主成分进行投影\n",
        "W = eigenvectors[:, :2]  # 选择前两个特征向量\n",
        "X_pca_manual = X_centered @ W\n",
        "\n",
        "print(\"手动PCA结果形状:\", X_pca_manual.shape)\n",
        "print(\"\\n与sklearn PCA结果的差异:\")\n",
        "print(\"最大差异:\", np.max(np.abs(X_pca_manual - X_pca)))\n",
        "print(\"(差异很小，说明实现正确！)\")\n"
      ]
    },
    {
      "cell_type": "raw",
      "metadata": {
        "vscode": {
          "languageId": "raw"
        }
      },
      "source": [
        "## 3. 奇异值分解(SVD)\n",
        "\n",
        "### 🤔 什么是SVD？\n",
        "\n",
        "**核心思想**：\n",
        "- 将任意矩阵分解为三个矩阵的乘积\n",
        "- A = U × Σ × V^T\n",
        "- U：左奇异向量，V：右奇异向量，Σ：奇异值\n",
        "\n",
        "**应用场景**：\n",
        "- 图像压缩\n",
        "- 推荐系统\n",
        "- 数据降维\n",
        "- 矩阵近似\n"
      ]
    },
    {
      "cell_type": "code",
      "execution_count": null,
      "metadata": {},
      "outputs": [],
      "source": [
        "# 创建一个示例矩阵\n",
        "A = np.array([[1, 2, 3],\n",
        "              [4, 5, 6],\n",
        "              [7, 8, 9],\n",
        "              [10, 11, 12]])\n",
        "\n",
        "print(\"原始矩阵 A:\")\n",
        "print(A)\n",
        "print(\"形状:\", A.shape)\n",
        "\n",
        "# SVD分解\n",
        "U, s, Vt = np.linalg.svd(A)\n",
        "\n",
        "print(\"\\nSVD分解结果:\")\n",
        "print(f\"U形状: {U.shape}\")\n",
        "print(f\"奇异值: {s}\")\n",
        "print(f\"V^T形状: {Vt.shape}\")\n"
      ]
    },
    {
      "cell_type": "code",
      "execution_count": null,
      "metadata": {},
      "outputs": [],
      "source": [
        "# 验证SVD分解\n",
        "# 重构Σ矩阵\n",
        "Sigma = np.zeros((A.shape[0], A.shape[1]))\n",
        "Sigma[:len(s), :len(s)] = np.diag(s)\n",
        "\n",
        "# 重构原矩阵\n",
        "A_reconstructed = U @ Sigma @ Vt\n",
        "\n",
        "print(\"重构的矩阵:\")\n",
        "print(A_reconstructed)\n",
        "print(\"\\n重构误差:\", np.max(np.abs(A - A_reconstructed)))\n"
      ]
    },
    {
      "cell_type": "raw",
      "metadata": {
        "vscode": {
          "languageId": "raw"
        }
      },
      "source": [
        "### 📊 SVD的应用：图像压缩\n"
      ]
    },
    {
      "cell_type": "code",
      "execution_count": null,
      "metadata": {},
      "outputs": [],
      "source": [
        "# 创建一个\"图像\"矩阵\n",
        "np.random.seed(42)\n",
        "image = np.random.rand(50, 50)\n",
        "\n",
        "# SVD分解\n",
        "U, s, Vt = np.linalg.svd(image)\n",
        "\n",
        "print(f\"原始图像大小: {image.shape}\")\n",
        "print(f\"奇异值数量: {len(s)}\")\n",
        "\n",
        "# 使用不同数量的奇异值重构图像\n",
        "k_values = [1, 5, 10, 20]\n",
        "\n",
        "fig, axes = plt.subplots(2, 3, figsize=(15, 10))\n",
        "axes = axes.flatten()\n",
        "\n",
        "# 原始图像\n",
        "axes[0].imshow(image, cmap='gray')\n",
        "axes[0].set_title('原始图像')\n",
        "axes[0].axis('off')\n",
        "\n",
        "# 不同k值的重构\n",
        "for i, k in enumerate(k_values):\n",
        "    # 只使用前k个奇异值\n",
        "    image_k = U[:, :k] @ np.diag(s[:k]) @ Vt[:k, :]\n",
        "    \n",
        "    axes[i+1].imshow(image_k, cmap='gray')\n",
        "    axes[i+1].set_title(f'k={k} 个奇异值')\n",
        "    axes[i+1].axis('off')\n",
        "    \n",
        "    # 计算压缩比\n",
        "    original_size = image.shape[0] * image.shape[1]\n",
        "    compressed_size = k * (image.shape[0] + image.shape[1] + 1)\n",
        "    compression_ratio = compressed_size / original_size\n",
        "    \n",
        "    print(f\"k={k}: 压缩比 {compression_ratio:.2f}\")\n",
        "\n",
        "# 奇异值图\n",
        "axes[5].plot(s, 'o-')\n",
        "axes[5].set_title('奇异值大小')\n",
        "axes[5].set_xlabel('索引')\n",
        "axes[5].set_ylabel('奇异值')\n",
        "axes[5].grid(True)\n",
        "\n",
        "plt.tight_layout()\n",
        "plt.show()\n"
      ]
    },
    {
      "cell_type": "raw",
      "metadata": {
        "vscode": {
          "languageId": "raw"
        }
      },
      "source": [
        "## 4. 实际应用案例\n",
        "\n",
        "### 📊 案例1：数据可视化\n"
      ]
    },
    {
      "cell_type": "code",
      "execution_count": null,
      "metadata": {},
      "outputs": [],
      "source": [
        "# 创建高维数据并用PCA可视化\n",
        "np.random.seed(42)\n",
        "\n",
        "# 生成3个类别的高维数据\n",
        "n_samples = 100\n",
        "n_features = 20\n",
        "\n",
        "# 类别1：均值在原点附近\n",
        "class1 = np.random.normal(0, 1, (n_samples, n_features))\n",
        "# 类别2：均值在正方向\n",
        "class2 = np.random.normal(2, 1, (n_samples, n_features))\n",
        "# 类别3：均值在负方向\n",
        "class3 = np.random.normal(-2, 1, (n_samples, n_features))\n",
        "\n",
        "# 合并数据\n",
        "X = np.vstack([class1, class2, class3])\n",
        "y = np.hstack([np.zeros(n_samples), np.ones(n_samples), np.full(n_samples, 2)])\n",
        "\n",
        "print(f\"数据形状: {X.shape}\")\n",
        "print(f\"类别: {np.unique(y)}\")\n",
        "\n",
        "# 应用PCA降维\n",
        "pca = PCA(n_components=2)\n",
        "X_pca = pca.fit_transform(X)\n",
        "\n",
        "# 可视化\n",
        "plt.figure(figsize=(10, 6))\n",
        "colors = ['red', 'green', 'blue']\n",
        "for i, color in enumerate(colors):\n",
        "    plt.scatter(X_pca[y == i, 0], X_pca[y == i, 1], \n",
        "               c=color, label=f'类别 {i}', alpha=0.7)\n",
        "\n",
        "plt.xlabel(f'第1主成分 ({pca.explained_variance_ratio_[0]:.2%} 方差)')\n",
        "plt.ylabel(f'第2主成分 ({pca.explained_variance_ratio_[1]:.2%} 方差)')\n",
        "plt.title('20维数据的PCA可视化')\n",
        "plt.legend()\n",
        "plt.grid(True, alpha=0.3)\n",
        "plt.show()\n",
        "\n",
        "print(f\"前2个主成分解释了 {pca.explained_variance_ratio_.sum():.2%} 的方差\")\n"
      ]
    },
    {
      "cell_type": "raw",
      "metadata": {
        "vscode": {
          "languageId": "raw"
        }
      },
      "source": [
        "### 🎯 案例2：特征选择\n"
      ]
    },
    {
      "cell_type": "code",
      "execution_count": null,
      "metadata": {},
      "outputs": [],
      "source": [
        "# 分析各主成分的重要性\n",
        "pca_full = PCA()\n",
        "pca_full.fit(X)\n",
        "\n",
        "# 累积方差解释比例\n",
        "cumsum_ratio = np.cumsum(pca_full.explained_variance_ratio_)\n",
        "\n",
        "plt.figure(figsize=(12, 5))\n",
        "\n",
        "# 各主成分的方差解释比例\n",
        "plt.subplot(1, 2, 1)\n",
        "plt.bar(range(1, len(pca_full.explained_variance_ratio_) + 1), \n",
        "        pca_full.explained_variance_ratio_)\n",
        "plt.xlabel('主成分')\n",
        "plt.ylabel('方差解释比例')\n",
        "plt.title('各主成分的方差解释比例')\n",
        "plt.grid(True, alpha=0.3)\n",
        "\n",
        "# 累积方差解释比例\n",
        "plt.subplot(1, 2, 2)\n",
        "plt.plot(range(1, len(cumsum_ratio) + 1), cumsum_ratio, 'o-')\n",
        "plt.axhline(y=0.9, color='r', linestyle='--', label='90%阈值')\n",
        "plt.axhline(y=0.95, color='g', linestyle='--', label='95%阈值')\n",
        "plt.xlabel('主成分数量')\n",
        "plt.ylabel('累积方差解释比例')\n",
        "plt.title('累积方差解释比例')\n",
        "plt.legend()\n",
        "plt.grid(True, alpha=0.3)\n",
        "\n",
        "plt.tight_layout()\n",
        "plt.show()\n",
        "\n",
        "# 找到解释90%方差所需的主成分数量\n",
        "n_components_90 = np.argmax(cumsum_ratio >= 0.9) + 1\n",
        "print(f\"解释90%方差需要 {n_components_90} 个主成分\")\n",
        "print(f\"从 {X.shape[1]} 维降到 {n_components_90} 维，降维比例: {n_components_90/X.shape[1]:.2%}\")\n"
      ]
    },
    {
      "cell_type": "raw",
      "metadata": {
        "vscode": {
          "languageId": "raw"
        }
      },
      "source": [
        "## 📝 今日总结\n",
        "\n",
        "### ✅ 你学到了什么？\n",
        "\n",
        "1. **特征值和特征向量**：\n",
        "   - 特征向量是变换后方向不变的向量\n",
        "   - 特征值是变换的缩放倍数\n",
        "   - 可以用 `np.linalg.eig()` 计算\n",
        "\n",
        "2. **主成分分析(PCA)**：\n",
        "   - 找到数据变化最大的方向\n",
        "   - 用于降维、可视化、去噪\n",
        "   - 可以用 `sklearn.decomposition.PCA` 实现\n",
        "\n",
        "3. **奇异值分解(SVD)**：\n",
        "   - 将矩阵分解为 U × Σ × V^T\n",
        "   - 用于图像压缩、推荐系统\n",
        "   - 可以用 `np.linalg.svd()` 实现\n",
        "\n",
        "### 🎯 实际应用\n",
        "\n",
        "- **数据预处理**：降维减少计算量\n",
        "- **特征工程**：提取主要特征\n",
        "- **数据可视化**：高维数据可视化\n",
        "- **压缩算法**：图像、音频压缩\n",
        "\n",
        "### 🚀 下一步\n",
        "\n",
        "现在你已经掌握了线性代数的核心概念，可以开始学习：\n",
        "- 机器学习算法（线性回归、分类）\n",
        "- 神经网络基础\n",
        "- 深度学习框架（TensorFlow、PyTorch）\n"
      ]
    }
  ],
  "metadata": {
    "kernelspec": {
      "display_name": "ml_learning",
      "language": "python",
      "name": "python3"
    },
    "language_info": {
      "codemirror_mode": {
        "name": "ipython",
        "version": 3
      },
      "file_extension": ".py",
      "mimetype": "text/x-python",
      "name": "python",
      "nbconvert_exporter": "python",
      "pygments_lexer": "ipython3",
      "version": "3.9.23"
    }
  },
  "nbformat": 4,
  "nbformat_minor": 2
}
