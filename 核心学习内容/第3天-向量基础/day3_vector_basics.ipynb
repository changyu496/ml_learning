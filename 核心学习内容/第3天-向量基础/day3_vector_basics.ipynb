{
  "cells": [
    {
      "cell_type": "markdown",
      "metadata": {
        "vscode": {
          "languageId": "raw"
        }
      },
      "source": [
        "# 第3天：向量基础 - 机器学习的数学语言\n",
        "\n",
        "## 🎯 今天的学习目标\n",
        "\n",
        "**重要提醒**：\n",
        "- 目标理解度：30%即可 ✅\n",
        "- 重点是应用，不是理论 ✅  \n",
        "- 向量就是数据，向量运算就是数据处理 ✅\n",
        "- 够用就行，不追求完美 ✅\n",
        "\n",
        "## 📚 今天要掌握的3个概念\n",
        "\n",
        "### 1️⃣ 向量 = 数据点\n",
        "### 2️⃣ 向量运算 = 数据操作\n",
        "### 3️⃣ 向量应用 = 机器学习基础\n",
        "\n",
        "**预计学习时间：3小时（周日休闲学习）**\n"
      ]
    },
    {
      "cell_type": "code",
      "execution_count": 1,
      "metadata": {},
      "outputs": [
        {
          "name": "stdout",
          "output_type": "stream",
          "text": [
            "🚀 开始第3天学习！\n",
            "记住：向量就是数据，向量运算就是数据处理！\n"
          ]
        }
      ],
      "source": [
        "import numpy as np\n",
        "import matplotlib.pyplot as plt\n",
        "from sklearn.metrics.pairwise import cosine_similarity\n",
        "import warnings\n",
        "warnings.filterwarnings('ignore')\n",
        "\n",
        "# 设置中文字体\n",
        "plt.rcParams['font.sans-serif'] = ['Arial Unicode MS', 'SimHei']\n",
        "plt.rcParams['axes.unicode_minus'] = False\n",
        "\n",
        "print(\"🚀 开始第3天学习！\")\n",
        "print(\"记住：向量就是数据，向量运算就是数据处理！\")\n"
      ]
    },
    {
      "cell_type": "markdown",
      "metadata": {
        "vscode": {
          "languageId": "raw"
        }
      },
      "source": [
        "## 1️⃣ 向量 = 数据点\n",
        "\n",
        "### 🤔 最简单的理解\n",
        "- **向量**：就是一堆数字排成一行（或一列）\n",
        "- **例子**：用户评分 [5, 3, 4, 2, 1] 就是一个向量\n",
        "- **意义**：每个数字代表一个特征或属性\n",
        "\n",
        "### 🛠️ 实际应用\n",
        "- **用户画像**：[年龄, 收入, 购买频次, 满意度]\n",
        "- **商品特征**：[价格, 评分, 销量, 库存]\n",
        "- **文本表示**：[词汇1出现次数, 词汇2出现次数, ...]\n",
        "\n",
        "### 💡 核心理念\n",
        "> \"向量不是数学概念，是数据表示方法\"\n"
      ]
    },
    {
      "cell_type": "code",
      "execution_count": 2,
      "metadata": {},
      "outputs": [
        {
          "name": "stdout",
          "output_type": "stream",
          "text": [
            "=== 向量就是数据 ===\n",
            "用户A的评分向量: [5 3 4 2 1]\n",
            "用户B的评分向量: [4 3 5 2 2]\n",
            "用户C的评分向量: [1 2 1 4 5]\n",
            "\n",
            "向量的维度（特征数量）: 5\n",
            "向量的形状: (5,)\n",
            "向量的类型: <class 'numpy.ndarray'>\n",
            "\n",
            "💡 具体含义:\n",
            "  动作片: 用户A评分5, 用户B评分4, 用户C评分1\n",
            "  喜剧片: 用户A评分3, 用户B评分3, 用户C评分2\n",
            "  科幻片: 用户A评分4, 用户B评分5, 用户C评分1\n",
            "  爱情片: 用户A评分2, 用户B评分2, 用户C评分4\n",
            "  恐怖片: 用户A评分1, 用户B评分2, 用户C评分5\n",
            "\n",
            "🎯 关键理解:\n",
            "- 向量 = 数据点\n",
            "- 每个数字 = 一个特征\n",
            "- 向量长度 = 特征数量\n",
            "- 这就是机器学习的数据表示方法！\n"
          ]
        }
      ],
      "source": [
        "# 1️⃣ 向量示例：用户评分数据\n",
        "print(\"=== 向量就是数据 ===\")\n",
        "\n",
        "# 创建用户评分向量（对5部电影的评分）\n",
        "user_A = np.array([5, 3, 4, 2, 1])  # 用户A的评分\n",
        "user_B = np.array([4, 3, 5, 2, 2])  # 用户B的评分\n",
        "user_C = np.array([1, 2, 1, 4, 5])  # 用户C的评分\n",
        "\n",
        "print(f\"用户A的评分向量: {user_A}\")\n",
        "print(f\"用户B的评分向量: {user_B}\")\n",
        "print(f\"用户C的评分向量: {user_C}\")\n",
        "\n",
        "# 向量的基本信息\n",
        "print(f\"\\n向量的维度（特征数量）: {len(user_A)}\")\n",
        "print(f\"向量的形状: {user_A.shape}\")\n",
        "print(f\"向量的类型: {type(user_A)}\")\n",
        "\n",
        "# 电影名称（方便理解）\n",
        "movies = ['动作片', '喜剧片', '科幻片', '爱情片', '恐怖片']\n",
        "print(f\"\\n💡 具体含义:\")\n",
        "for i, movie in enumerate(movies):\n",
        "    print(f\"  {movie}: 用户A评分{user_A[i]}, 用户B评分{user_B[i]}, 用户C评分{user_C[i]}\")\n",
        "\n",
        "print(f\"\\n🎯 关键理解:\")\n",
        "print(f\"- 向量 = 数据点\")\n",
        "print(f\"- 每个数字 = 一个特征\")\n",
        "print(f\"- 向量长度 = 特征数量\")\n",
        "print(f\"- 这就是机器学习的数据表示方法！\")\n"
      ]
    },
    {
      "cell_type": "markdown",
      "metadata": {
        "vscode": {
          "languageId": "raw"
        }
      },
      "source": [
        "## 2️⃣ 向量运算 = 数据操作\n",
        "\n",
        "### 🤔 最简单的理解\n",
        "- **向量加法**：对应位置相加\n",
        "- **向量减法**：对应位置相减\n",
        "- **点积**：对应位置相乘再求和（最重要！）\n",
        "- **向量长度**：衡量向量的大小\n",
        "\n",
        "### 🛠️ 实际应用\n",
        "- **相似度计算**：用点积判断两个用户是否相似\n",
        "- **推荐系统**：找到相似用户，推荐他们喜欢的商品\n",
        "- **分类算法**：计算数据点之间的距离\n",
        "\n",
        "### 💡 核心理念\n",
        "> \"向量运算不是数学游戏，是数据分析工具\"\n"
      ]
    },
    {
      "cell_type": "code",
      "execution_count": 3,
      "metadata": {},
      "outputs": [
        {
          "name": "stdout",
          "output_type": "stream",
          "text": [
            "=== 向量运算 = 数据操作 ===\n",
            "用户A: [5 3 4 2 1]\n",
            "用户B: [4 3 5 2 2]\n",
            "\n",
            "1️⃣ 向量加法 - 平均评分:\n",
            "(用户A + 用户B) / 2 = [4.5 3.  4.5 2.  1.5]\n",
            "\n",
            "2️⃣ 向量减法 - 评分差异:\n",
            "用户A - 用户B = [ 1  0 -1  0 -1]\n",
            "正数表示A比B评分高，负数表示A比B评分低\n",
            "\n",
            "3️⃣ 点积 - 相似度指标:\n",
            "用户A · 用户B = 55\n",
            "计算过程: 5×4 + 3×3 + 4×5 + 2×2 + 1×2\n",
            "         = 20 + 9 + 20 + 4 + 2 = 55\n",
            "\n",
            "4️⃣ 向量长度:\n",
            "用户A的向量长度: 7.42\n",
            "用户B的向量长度: 7.62\n",
            "\n",
            "🎯 关键理解:\n",
            "- 向量运算 = 数据操作\n",
            "- 点积 = 相似度指标\n",
            "- 点积越大 = 越相似\n",
            "- 这就是推荐系统的数学基础！\n"
          ]
        }
      ],
      "source": [
        "# 2️⃣ 向量运算示例\n",
        "print(\"=== 向量运算 = 数据操作 ===\")\n",
        "\n",
        "# 使用前面的用户评分数据\n",
        "print(f\"用户A: {user_A}\")\n",
        "print(f\"用户B: {user_B}\")\n",
        "\n",
        "# 1. 向量加法：平均评分\n",
        "avg_rating = (user_A + user_B) / 2\n",
        "print(f\"\\n1️⃣ 向量加法 - 平均评分:\")\n",
        "print(f\"(用户A + 用户B) / 2 = {avg_rating}\")\n",
        "\n",
        "# 2. 向量减法：评分差异\n",
        "rating_diff = user_A - user_B\n",
        "print(f\"\\n2️⃣ 向量减法 - 评分差异:\")\n",
        "print(f\"用户A - 用户B = {rating_diff}\")\n",
        "print(f\"正数表示A比B评分高，负数表示A比B评分低\")\n",
        "\n",
        "# 3. 点积：相似度指标（最重要！）\n",
        "dot_product = np.dot(user_A, user_B)\n",
        "print(f\"\\n3️⃣ 点积 - 相似度指标:\")\n",
        "print(f\"用户A · 用户B = {dot_product}\")\n",
        "print(f\"计算过程: {user_A[0]}×{user_B[0]} + {user_A[1]}×{user_B[1]} + {user_A[2]}×{user_B[2]} + {user_A[3]}×{user_B[3]} + {user_A[4]}×{user_B[4]}\")\n",
        "print(f\"         = {user_A[0]*user_B[0]} + {user_A[1]*user_B[1]} + {user_A[2]*user_B[2]} + {user_A[3]*user_B[3]} + {user_A[4]*user_B[4]} = {dot_product}\")\n",
        "\n",
        "# 4. 向量长度（模）\n",
        "length_A = np.linalg.norm(user_A)\n",
        "length_B = np.linalg.norm(user_B)\n",
        "print(f\"\\n4️⃣ 向量长度:\")\n",
        "print(f\"用户A的向量长度: {length_A:.2f}\")\n",
        "print(f\"用户B的向量长度: {length_B:.2f}\")\n",
        "\n",
        "print(f\"\\n🎯 关键理解:\")\n",
        "print(f\"- 向量运算 = 数据操作\")\n",
        "print(f\"- 点积 = 相似度指标\")\n",
        "print(f\"- 点积越大 = 越相似\")\n",
        "print(f\"- 这就是推荐系统的数学基础！\")\n"
      ]
    },
    {
      "cell_type": "markdown",
      "metadata": {
        "vscode": {
          "languageId": "raw"
        }
      },
      "source": [
        "## 3️⃣ 向量应用 = 机器学习基础\n",
        "\n",
        "### 🤔 最重要的应用\n",
        "- **相似度计算**：找到相似的用户或商品\n",
        "- **推荐系统**：\"喜欢这个的人也喜欢...\"\n",
        "- **聚类分析**：把相似的数据点分组\n",
        "- **分类预测**：根据距离判断类别\n",
        "\n",
        "### 🛠️ 实际案例\n",
        "- **淘宝推荐**：根据你的购买记录推荐商品\n",
        "- **网易云音乐**：根据你的听歌记录推荐歌曲\n",
        "- **Netflix**：根据你的观影记录推荐电影\n",
        "\n",
        "### 💡 核心理念\n",
        "> \"向量应用就是现代互联网的推荐引擎\"\n"
      ]
    },
    {
      "cell_type": "code",
      "execution_count": null,
      "metadata": {},
      "outputs": [
        {
          "name": "stdout",
          "output_type": "stream",
          "text": [
            "=== 向量应用 = 推荐系统 ===\n",
            "用户评分数据:\n",
            "用户A: [5 3 4 2 1]\n",
            "用户B: [4 3 5 2 2]\n",
            "用户C: [1 2 1 4 5]\n",
            "用户D: [5 4 4 1 1]\n",
            "用户E: [2 1 2 5 4]\n",
            "\n",
            "🎯 为用户A寻找相似用户:\n",
            "用户A vs 用户B: 相似度 = 0.974\n",
            "用户A vs 用户C: 相似度 = 0.551\n",
            "用户A vs 用户D: 相似度 = 0.983\n",
            "用户A vs 用户E: 相似度 = 0.667\n",
            "\n",
            "🏆 最相似的用户: 用户D (相似度: 0.983)\n",
            "\n",
            "💡 推荐系统逻辑:\n",
            "1. 找到与用户A最相似的用户：用户D\n",
            "2. 推荐用户D喜欢但用户A还没高评分的电影\n",
            "3. 这就是'喜欢这个的人也喜欢...'的原理！\n",
            "\n",
            "🎯 关键理解:\n",
            "- 向量应用 = 推荐系统\n",
            "- 相似度 = 推荐的基础\n",
            "- 这就是淘宝、网易云、Netflix的核心算法！\n"
          ]
        }
      ],
      "source": [
        "# 3️⃣ 向量应用：推荐系统\n",
        "print(\"=== 向量应用 = 推荐系统 ===\")\n",
        "\n",
        "# 扩展数据：更多用户的评分\n",
        "users_ratings = np.array([\n",
        "    [5, 3, 4, 2, 1],  # 用户A：喜欢动作片、科幻片\n",
        "    [4, 3, 5, 2, 2],  # 用户B：喜欢动作片、科幻片\n",
        "    [1, 2, 1, 4, 5],  # 用户C：喜欢爱情片、恐怖片\n",
        "    [5, 4, 4, 1, 1],  # 用户D：喜欢动作片、喜剧片、科幻片\n",
        "    [2, 1, 2, 5, 4],  # 用户E：喜欢爱情片、恐怖片\n",
        "])\n",
        "\n",
        "user_names = ['用户A', '用户B', '用户C', '用户D', '用户E']\n",
        "movies = ['动作片', '喜剧片', '科幻片', '爱情片', '恐怖片']\n",
        "\n",
        "print(\"用户评分数据:\")\n",
        "for i, name in enumerate(user_names):\n",
        "    print(f\"{name}: {users_ratings[i]}\")\n",
        "\n",
        "# 计算用户A与其他用户的相似度\n",
        "target_user = 0  # 用户A\n",
        "print(f\"\\n🎯 为{user_names[target_user]}寻找相似用户:\")\n",
        "\n",
        "similarities = []\n",
        "for i in range(len(users_ratings)):\n",
        "    if i != target_user:\n",
        "        # 计算余弦相似度（更准确的相似度指标）\n",
        "        sim = cosine_similarity([users_ratings[target_user]], [users_ratings[i]])[0][0]\n",
        "        similarities.append((user_names[i], sim))\n",
        "        print(f\"{user_names[target_user]} vs {user_names[i]}: 相似度 = {sim:.3f}\")\n",
        "\n",
        "# 找到最相似的用户\n",
        "most_similar = max(similarities, key=lambda x: x[1])\n",
        "print(f\"\\n🏆 最相似的用户: {most_similar[0]} (相似度: {most_similar[1]:.3f})\")\n",
        "\n",
        "# 推荐逻辑\n",
        "print(f\"\\n💡 推荐系统逻辑:\")\n",
        "print(f\"1. 找到与{user_names[target_user]}最相似的用户：{most_similar[0]}\")\n",
        "print(f\"2. 推荐{most_similar[0]}喜欢但{user_names[target_user]}还没高评分的电影\")\n",
        "print(f\"3. 这就是'喜欢这个的人也喜欢...'的原理！\")\n",
        "\n",
        "print(f\"\\n🎯 关键理解:\")\n",
        "print(f\"- 向量应用 = 推荐系统\")\n",
        "print(f\"- 相似度 = 推荐的基础\")\n",
        "print(f\"- 这就是淘宝、网易云、Netflix的核心算法！\")\n"
      ]
    },
    {
      "cell_type": "markdown",
      "metadata": {
        "vscode": {
          "languageId": "raw"
        }
      },
      "source": [
        "## 🎯 总结：向量在机器学习中的作用\n",
        "\n",
        "### ✅ 你已经掌握了（30%理解度就够了！）\n",
        "\n",
        "#### 1️⃣ 向量 = 数据点\n",
        "- **本质**：一堆数字的集合\n",
        "- **应用**：表示用户、商品、文本等\n",
        "- **工具**：NumPy数组\n",
        "\n",
        "#### 2️⃣ 向量运算 = 数据操作\n",
        "- **点积**：计算相似度的核心工具\n",
        "- **长度**：衡量向量大小\n",
        "- **距离**：衡量向量差异\n",
        "\n",
        "#### 3️⃣ 向量应用 = 推荐系统\n",
        "- **相似度计算**：找到相似的用户或商品\n",
        "- **推荐引擎**：现代互联网的核心技术\n",
        "- **实际应用**：淘宝、网易云、Netflix等\n",
        "\n",
        "### 🎉 恭喜！你现在知道：\n",
        "- ✅ 向量是什么，怎么用\n",
        "- ✅ 如何计算向量相似度\n",
        "- ✅ 推荐系统的基本原理\n",
        "- ✅ 向量在机器学习中的重要作用\n",
        "\n",
        "### 🚀 下一步\n",
        "现在你已经理解了向量的基础，接下来可以：\n",
        "1. 继续第4天的学习内容\n",
        "2. 尝试实现一个简单的推荐系统\n",
        "3. 了解更多机器学习算法\n",
        "\n",
        "**记住：向量不是数学概念，是数据处理工具！**\n"
      ]
    }
  ],
  "metadata": {
    "kernelspec": {
      "display_name": "ml_learning",
      "language": "python",
      "name": "python3"
    },
    "language_info": {
      "codemirror_mode": {
        "name": "ipython",
        "version": 3
      },
      "file_extension": ".py",
      "mimetype": "text/x-python",
      "name": "python",
      "nbconvert_exporter": "python",
      "pygments_lexer": "ipython3",
      "version": "3.9.23"
    }
  },
  "nbformat": 4,
  "nbformat_minor": 2
}
