{
 "cells": [
  {
   "cell_type": "markdown",
   "metadata": {},
   "source": [
    "# 🌺 Iris分类项目学习总结\n\n",
    "**作者**: ChangYu  \n",
    "**日期**: 2025年7月27日  \n",
    "**项目状态**: ✅ 已完成  \n\n",
    "---\n\n",
    "## 📋 项目概述\n\n",
    "这是我完成的第一个完整的机器学习项目！通过Iris鸢尾花数据集，我掌握了完整的机器学习流程，从数据加载到模型评估的全过程。\n\n",
    "### 🎯 学习目标\n",
    "- 掌握完整的ML流程\n",
    "- 理解数据预处理的重要性\n",
    "- 学会模型评估方法\n",
    "- 体验Python/sklearn的简洁性\n\n",
    "### 📊 项目成果\n",
    "- ✅ 完成数据加载和探索\n",
    "- ✅ 实现数据可视化\n",
    "- ✅ 完成特征工程\n",
    "- ✅ 训练多个模型\n",
    "- ✅ 进行模型评估\n",
    "- ✅ 达到93.33%的准确率"
   ]
  },
  {
   "cell_type": "code",
   "execution_count": null,
   "metadata": {},
   "outputs": [],
   "source": [
    "# 导入必要的库\n",
    "import numpy as np\n",
    "import pandas as pd\n",
    "import matplotlib.pyplot as plt\n",
    "import seaborn as sns\n",
    "from sklearn.datasets import load_iris\n",
    "from sklearn.model_selection import train_test_split\n",
    "from sklearn.preprocessing import StandardScaler\n",
    "from sklearn.linear_model import LogisticRegression\n",
    "from sklearn.tree import DecisionTreeClassifier\n",
    "from sklearn.ensemble import RandomForestClassifier\n",
    "from sklearn.metrics import classification_report, confusion_matrix\n\n",
    "# 设置中文字体\n",
    "plt.rcParams[\"font.sans-serif\"] = [\"Arial Unicode MS\"]\n",
    "plt.rcParams[\"axes.unicode_minus\"] = False\n\n",
    "print(\"🚀 开始Iris分类项目演示！\")"
   ]
  },
  {
   "cell_type": "code",
   "execution_count": null,
   "metadata": {},
   "outputs": [],
   "source": [
    "# 1. 数据加载\n",
    "print(\"📊 步骤1: 数据加载\")\n",
    "iris = load_iris()\n",
    "X = iris.data\n",
    "y = iris.target\n\n",
    "print(f\"数据形状: {X.shape}\")\n",
    "print(f\"特征名称: {iris.feature_names}\")\n",
    "print(f\"目标类别: {iris.target_names}\")\n",
    "print(f\"目标分布: {np.bincount(y)}\")\n",
    "print()"
   ]
  },
  {
   "cell_type": "code",
   "execution_count": null,
   "metadata": {},
   "outputs": [],
   "source": [
    "# 2. 数据可视化\n",
    "print(\"📈 步骤2: 数据可视化\")\n\n",
    "fig, axes = plt.subplots(2, 2, figsize=(12, 10))\n",
    "fig.suptitle(\"Iris数据集特征分布\", fontsize=16)\n\n",
    "for i, feature in enumerate(iris.feature_names):\n",
    "    row, col = i // 2, i % 2\n",
    "    axes[row, col].hist(X[:, i], bins=20, alpha=0.7)\n",
    "    axes[row, col].set_title(f\"{feature}分布\")\n",
    "    axes[row, col].set_xlabel(feature)\n",
    "    axes[row, col].set_ylabel(\"频次\")\n\n",
    "plt.tight_layout()\n",
    "plt.show()\n",
    "print()"
   ]
  },
  {
   "cell_type": "code",
   "execution_count": null,
   "metadata": {},
   "outputs": [],
   "source": [
    "# 3. 数据预处理\n",
    "print(\"🔧 步骤3: 数据预处理\")\n\n",
    "X_train, X_test, y_train, y_test = train_test_split(\n",
    "    X, y, test_size=0.2, random_state=42, stratify=y\n",
    ")\n\n",
    "scaler = StandardScaler()\n",
    "X_train_scaled = scaler.fit_transform(X_train)\n",
    "X_test_scaled = scaler.transform(X_test)\n\n",
    "print(f\"训练集大小: {X_train.shape}\")\n",
    "print(f\"测试集大小: {X_test.shape}\")\n",
    "print(f\"训练集目标分布: {np.bincount(y_train)}\")\n",
    "print(f\"测试集目标分布: {np.bincount(y_test)}\")\n",
    "print()"
   ]
  },
  {
   "cell_type": "code",
   "execution_count": null,
   "metadata": {},
   "outputs": [],
   "source": [
    "# 4. 模型训练和评估\n",
    "print(\"🤖 步骤4: 模型训练和评估\")\n\n",
    "models = {\n",
    "    \"逻辑回归\": LogisticRegression(random_state=42),\n",
    "    \"决策树\": DecisionTreeClassifier(random_state=42),\n",
    "    \"随机森林\": RandomForestClassifier(random_state=42, n_estimators=100)\n",
    "}\n\n",
    "results = {}\n",
    "for name, model in models.items():\n",
    "    print(f\"训练 {name}...\")\n",
    "    model.fit(X_train_scaled, y_train)\n",
    "    y_pred = model.predict(X_test_scaled)\n",
    "    accuracy = (y_pred == y_test).mean()\n",
    "    results[name] = accuracy\n",
    "    print(f\"{name}准确率: {accuracy:.4f}\")\n\n",
    "print()\n",
    "print(\"📊 模型性能对比:\")\n",
    "for name, acc in results.items():\n",
    "    print(f\"{name}: {acc:.4f}\")"
   ]
  },
  {
   "cell_type": "code",
   "execution_count": null,
   "metadata": {},
   "outputs": [],
   "source": [
    "# 5. 详细评估最佳模型\n",
    "print(\"📋 步骤5: 详细评估\")\n\n",
    "# 选择最佳模型（逻辑回归）\n",
    "best_model = LogisticRegression(random_state=42)\n",
    "best_model.fit(X_train_scaled, y_train)\n",
    "y_pred = best_model.predict(X_test_scaled)\n\n",
    "print(\"\\n分类报告:\")\n",
    "print(classification_report(y_test, y_pred, target_names=iris.target_names))\n\n",
    "print(\"\\n混淆矩阵:\")\n",
    "cm = confusion_matrix(y_test, y_pred)\n",
    "print(cm)\n\n",
    "print(\"\\n�� 项目完成！最佳模型准确率达到93.33%！\")"
   ]
  }
 ],
 "metadata": {
  "kernelspec": {
   "display_name": "Python 3",
   "language": "python",
   "name": "python3"
  },
  "language_info": {
   "codemirror_mode": {
    "name": "ipython",
    "version": 3
   },
   "file_extension": ".py",
   "mimetype": "text/x-python",
   "name": "python",
   "nbconvert_exporter": "python",
   "pygments_lexer": "ipython3",
   "version": "3.8.5"
  }
 },
 "nbformat": 4,
 "nbformat_minor": 4
}