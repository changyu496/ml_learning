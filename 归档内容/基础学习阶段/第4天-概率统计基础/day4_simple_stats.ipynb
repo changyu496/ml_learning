{
  "cells": [
    {
      "cell_type": "markdown",
      "metadata": {
        "vscode": {
          "languageId": "raw"
        }
      },
      "source": [
        "# 第4天：统计学入门（简化版）\n",
        "\n",
        "## 🎯 今天只学3个概念\n",
        "1. **数据的中心**：平均值 vs 中位数\n",
        "2. **数据的分散**：标准差\n",
        "3. **钟形曲线**：正态分布\n",
        "\n",
        "## ⏰ 学习时间：20分钟\n",
        "- 每个概念约6-7分钟\n",
        "- 重点是理解，不是记忆\n",
        "\n",
        "## 💡 学习原则\n",
        "- **看懂就行**，不用全记住\n",
        "- **动手试试**，代码很简单\n",
        "- **想想生活**，身边的例子\n"
      ]
    },
    {
      "cell_type": "code",
      "execution_count": 1,
      "metadata": {},
      "outputs": [
        {
          "name": "stdout",
          "output_type": "stream",
          "text": [
            "📊 第4天：统计学入门\n",
            "==============================\n",
            "今天很轻松，只学3个核心概念！\n"
          ]
        }
      ],
      "source": [
        "import numpy as np\n",
        "import matplotlib.pyplot as plt\n",
        "\n",
        "# 设置中文字体\n",
        "plt.rcParams['font.sans-serif'] = ['Arial Unicode MS', 'SimHei']\n",
        "plt.rcParams['axes.unicode_minus'] = False\n",
        "\n",
        "print(\"📊 第4天：统计学入门\")\n",
        "print(\"=\"*30)\n",
        "print(\"今天很轻松，只学3个核心概念！\")\n"
      ]
    },
    {
      "cell_type": "markdown",
      "metadata": {
        "vscode": {
          "languageId": "raw"
        }
      },
      "source": [
        "## 1️⃣ 数据的\"中心\"在哪里？\n",
        "\n",
        "### 问题：一组数据的\"代表值\"是什么？\n",
        "\n",
        "假设你们班5个同学的考试成绩：**70, 75, 80, 85, 90**\n",
        "\n",
        "### 平均值（Mean）\n",
        "- **怎么算**：所有数字加起来 ÷ 个数\n",
        "- **什么时候用**：数据比较\"正常\"，没有特别奇怪的数字\n",
        "\n",
        "### 中位数（Median）\n",
        "- **怎么算**：把数字排序，取中间那个\n",
        "- **什么时候用**：有\"异常值\"的时候\n",
        "\n",
        "### 哪个更好？\n",
        "**看情况！** 我们用例子来理解。\n"
      ]
    },
    {
      "cell_type": "code",
      "execution_count": 2,
      "metadata": {},
      "outputs": [
        {
          "name": "stdout",
          "output_type": "stream",
          "text": [
            "📊 概念1：数据的中心\n",
            "--------------------\n",
            "正常成绩: [70, 75, 80, 85, 90]\n",
            "平均值: 80.0\n",
            "中位数: 80.0\n",
            "结论: 差不多，用哪个都行\n",
            "\n",
            "有学霸的成绩: [70, 75, 80, 85, 100]\n",
            "平均值: 82.0\n",
            "中位数: 80.0\n",
            "结论: 中位数更能代表'普通同学'的水平\n",
            "\n",
            "有同学发挥失常: [70, 75, 80, 85, 20]\n",
            "平均值: 66.0\n",
            "中位数: 75.0\n",
            "结论: 中位数不受'异常值'影响\n",
            "\n",
            "💡 简单记忆:\n",
            "• 平均值：容易被'极端值'影响\n",
            "• 中位数：不容易被'极端值'影响\n",
            "• 有异常值时，中位数更可靠\n"
          ]
        }
      ],
      "source": [
        "# 平均值 vs 中位数的例子\n",
        "print(\"📊 概念1：数据的中心\")\n",
        "print(\"-\" * 20)\n",
        "\n",
        "# 例子1：正常的成绩\n",
        "normal_scores = [70, 75, 80, 85, 90]\n",
        "print(\"正常成绩:\", normal_scores)\n",
        "\n",
        "mean1 = np.mean(normal_scores)\n",
        "median1 = np.median(normal_scores)\n",
        "\n",
        "print(f\"平均值: {mean1}\")\n",
        "print(f\"中位数: {median1}\")\n",
        "print(\"结论: 差不多，用哪个都行\")\n",
        "\n",
        "print()\n",
        "\n",
        "# 例子2：有一个\"学霸\"\n",
        "with_genius = [70, 75, 80, 85, 100]  # 最后一个同学考了100分\n",
        "print(\"有学霸的成绩:\", with_genius)\n",
        "\n",
        "mean2 = np.mean(with_genius)\n",
        "median2 = np.median(with_genius)\n",
        "\n",
        "print(f\"平均值: {mean2}\")\n",
        "print(f\"中位数: {median2}\")\n",
        "print(\"结论: 中位数更能代表'普通同学'的水平\")\n",
        "\n",
        "print()\n",
        "\n",
        "# 例子3：有一个\"特别差\"的\n",
        "with_poor = [70, 75, 80, 85, 20]  # 最后一个同学只考了20分\n",
        "print(\"有同学发挥失常:\", with_poor)\n",
        "\n",
        "mean3 = np.mean(with_poor)\n",
        "median3 = np.median(with_poor)\n",
        "\n",
        "print(f\"平均值: {mean3}\")\n",
        "print(f\"中位数: {median3}\")\n",
        "print(\"结论: 中位数不受'异常值'影响\")\n",
        "\n",
        "print()\n",
        "print(\"💡 简单记忆:\")\n",
        "print(\"• 平均值：容易被'极端值'影响\")\n",
        "print(\"• 中位数：不容易被'极端值'影响\")\n",
        "print(\"• 有异常值时，中位数更可靠\")\n"
      ]
    },
    {
      "cell_type": "markdown",
      "metadata": {
        "vscode": {
          "languageId": "raw"
        }
      },
      "source": [
        "## 2️⃣ 数据有多\"分散\"？\n",
        "\n",
        "### 问题：两组数据的平均值一样，但感觉不一样？\n",
        "\n",
        "**班级A**：所有同学都考了80分左右\n",
        "**班级B**：有人考90分，有人考70分，平均也是80分\n",
        "\n",
        "### 标准差（Standard Deviation）\n",
        "- **作用**：衡量数据有多\"分散\"\n",
        "- **大标准差**：数据很分散，差别很大\n",
        "- **小标准差**：数据很集中，差别很小\n",
        "\n",
        "### 直观理解\n",
        "- **标准差 = 数据的\"平均偏离程度\"**\n",
        "- 就像测量大家\"距离平均值有多远\"\n"
      ]
    },
    {
      "cell_type": "code",
      "execution_count": 3,
      "metadata": {},
      "outputs": [
        {
          "name": "stdout",
          "output_type": "stream",
          "text": [
            "📊 概念2：数据的分散程度\n",
            "--------------------\n",
            "班级A成绩: [78, 79, 80, 81, 82]\n",
            "班级B成绩: [60, 70, 80, 90, 100]\n",
            "\n",
            "班级A平均分: 80.0\n",
            "班级B平均分: 80.0\n",
            "平均分一样！但是...\n",
            "\n",
            "班级A标准差: 1.4\n",
            "班级B标准差: 14.1\n",
            "\n",
            "解释:\n",
            "• 班级A: 标准差小 → 成绩很集中，大家水平差不多\n",
            "• 班级B: 标准差大 → 成绩很分散，有学霸也有学渣\n"
          ]
        },
        {
          "data": {
            "image/png": "[encoded data removed]",
            "text/plain": [
              "<Figure size 1000x400 with 2 Axes>"
            ]
          },
          "metadata": {},
          "output_type": "display_data"
        },
        {
          "name": "stdout",
          "output_type": "stream",
          "text": [
            "\n",
            "💡 简单记忆:\n",
            "• 标准差小 = 数据集中 = 大家都差不多\n",
            "• 标准差大 = 数据分散 = 差别很大\n",
            "• 标准差 = 衡量'一致性'的指标\n"
          ]
        }
      ],
      "source": [
        "# 标准差的例子\n",
        "print(\"📊 概念2：数据的分散程度\")\n",
        "print(\"-\" * 20)\n",
        "\n",
        "# 两个班级的成绩\n",
        "class_A = [78, 79, 80, 81, 82]  # 很集中\n",
        "class_B = [60, 70, 80, 90, 100]  # 很分散\n",
        "\n",
        "print(\"班级A成绩:\", class_A)\n",
        "print(\"班级B成绩:\", class_B)\n",
        "\n",
        "# 计算平均值\n",
        "mean_A = np.mean(class_A)\n",
        "mean_B = np.mean(class_B)\n",
        "\n",
        "print(f\"\\n班级A平均分: {mean_A}\")\n",
        "print(f\"班级B平均分: {mean_B}\")\n",
        "print(\"平均分一样！但是...\")\n",
        "\n",
        "# 计算标准差\n",
        "std_A = np.std(class_A)\n",
        "std_B = np.std(class_B)\n",
        "\n",
        "print(f\"\\n班级A标准差: {std_A:.1f}\")\n",
        "print(f\"班级B标准差: {std_B:.1f}\")\n",
        "\n",
        "print(f\"\\n解释:\")\n",
        "print(f\"• 班级A: 标准差小 → 成绩很集中，大家水平差不多\")\n",
        "print(f\"• 班级B: 标准差大 → 成绩很分散，有学霸也有学渣\")\n",
        "\n",
        "# 可视化\n",
        "plt.figure(figsize=(10, 4))\n",
        "\n",
        "plt.subplot(1, 2, 1)\n",
        "plt.bar(range(len(class_A)), class_A, color='lightblue', alpha=0.7)\n",
        "plt.axhline(y=mean_A, color='red', linestyle='--', label=f'平均值: {mean_A}')\n",
        "plt.title(f'班级A (标准差: {std_A:.1f})')\n",
        "plt.ylabel('成绩')\n",
        "plt.legend()\n",
        "\n",
        "plt.subplot(1, 2, 2)\n",
        "plt.bar(range(len(class_B)), class_B, color='lightcoral', alpha=0.7)\n",
        "plt.axhline(y=mean_B, color='red', linestyle='--', label=f'平均值: {mean_B}')\n",
        "plt.title(f'班级B (标准差: {std_B:.1f})')\n",
        "plt.ylabel('成绩')\n",
        "plt.legend()\n",
        "\n",
        "plt.tight_layout()\n",
        "plt.show()\n",
        "\n",
        "print(\"\\n💡 简单记忆:\")\n",
        "print(\"• 标准差小 = 数据集中 = 大家都差不多\")\n",
        "print(\"• 标准差大 = 数据分散 = 差别很大\")\n",
        "print(\"• 标准差 = 衡量'一致性'的指标\")\n"
      ]
    },
    {
      "cell_type": "markdown",
      "metadata": {
        "vscode": {
          "languageId": "raw"
        }
      },
      "source": [
        "## 3️⃣ 神奇的钟形曲线\n",
        "\n",
        "### 正态分布（钟形曲线）\n",
        "\n",
        "生活中很多数据都长这个样子：\n",
        "- **身高**：大部分人中等身高，很高和很矮的人少\n",
        "- **考试成绩**：大部分人中等成绩，满分和零分的人少\n",
        "- **体重**：大部分人正常体重，特别重和特别轻的人少\n",
        "\n",
        "### 68-95-99.7法则（超好记！）\n",
        "- **68%** 的数据在\"平均值 ± 1个标准差\"范围内\n",
        "- **95%** 的数据在\"平均值 ± 2个标准差\"范围内  \n",
        "- **99.7%** 的数据在\"平均值 ± 3个标准差\"范围内\n",
        "\n",
        "### 为什么重要？\n",
        "这个规律帮我们快速判断数据是否\"正常\"！\n"
      ]
    },
    {
      "cell_type": "code",
      "execution_count": null,
      "metadata": {},
      "outputs": [],
      "source": [
        "# 正态分布的例子\n",
        "print(\"📊 概念3：正态分布（钟形曲线）\")\n",
        "print(\"-\" * 20)\n",
        "\n",
        "# 生成正态分布数据（模拟身高）\n",
        "np.random.seed(42)  # 固定随机种子，结果可重复\n",
        "heights = np.random.normal(170, 10, 1000)  # 平均170cm，标准差10cm\n",
        "\n",
        "mean_height = np.mean(heights)\n",
        "std_height = np.std(heights)\n",
        "\n",
        "print(f\"模拟1000个人的身高数据:\")\n",
        "print(f\"平均身高: {mean_height:.1f} cm\")\n",
        "print(f\"标准差: {std_height:.1f} cm\")\n",
        "\n",
        "# 绘制钟形曲线\n",
        "plt.figure(figsize=(10, 6))\n",
        "plt.hist(heights, bins=30, density=True, alpha=0.7, color='skyblue', label='实际数据')\n",
        "\n",
        "# 画理论曲线\n",
        "x = np.linspace(140, 200, 100)\n",
        "y = (1/(std_height * np.sqrt(2 * np.pi))) * np.exp(-0.5 * ((x - mean_height) / std_height) ** 2)\n",
        "plt.plot(x, y, 'r-', linewidth=2, label='理论钟形曲线')\n",
        "\n",
        "# 标记68-95-99.7区间\n",
        "plt.axvline(mean_height - std_height, color='orange', linestyle='--', alpha=0.7, label='±1σ (68%)')\n",
        "plt.axvline(mean_height + std_height, color='orange', linestyle='--', alpha=0.7)\n",
        "plt.axvline(mean_height - 2*std_height, color='green', linestyle='--', alpha=0.7, label='±2σ (95%)')\n",
        "plt.axvline(mean_height + 2*std_height, color='green', linestyle='--', alpha=0.7)\n",
        "\n",
        "plt.xlabel('身高 (cm)')\n",
        "plt.ylabel('概率密度')\n",
        "plt.title('身高的正态分布')\n",
        "plt.legend()\n",
        "plt.grid(True, alpha=0.3)\n",
        "plt.show()\n",
        "\n",
        "# 验证68-95-99.7法则\n",
        "within_1_std = np.sum((heights >= mean_height - std_height) & (heights <= mean_height + std_height)) / len(heights)\n",
        "within_2_std = np.sum((heights >= mean_height - 2*std_height) & (heights <= mean_height + 2*std_height)) / len(heights)\n",
        "within_3_std = np.sum((heights >= mean_height - 3*std_height) & (heights <= mean_height + 3*std_height)) / len(heights)\n",
        "\n",
        "print(f\"\\n验证68-95-99.7法则:\")\n",
        "print(f\"1个标准差内: {within_1_std:.1%} (理论68%)\")\n",
        "print(f\"2个标准差内: {within_2_std:.1%} (理论95%)\")\n",
        "print(f\"3个标准差内: {within_3_std:.1%} (理论99.7%)\")\n",
        "\n",
        "print(f\"\\n实际应用:\")\n",
        "print(f\"• 身高在 {mean_height-std_height:.0f}-{mean_height+std_height:.0f}cm 的人约占68%\")\n",
        "print(f\"• 身高在 {mean_height-2*std_height:.0f}-{mean_height+2*std_height:.0f}cm 的人约占95%\")\n",
        "print(f\"• 身高超过 {mean_height+2*std_height:.0f}cm 的人很少（约2.5%）\")\n",
        "\n",
        "print(f\"\\n💡 简单记忆:\")\n",
        "print(\"• 正态分布 = 钟形曲线 = 中间多，两边少\")\n",
        "print(\"• 68-95-99.7 = 超好用的经验法则\")\n",
        "print(\"• 帮我们快速判断数据是否'异常'\")\n"
      ]
    },
    {
      "cell_type": "raw",
      "metadata": {
        "vscode": {
          "languageId": "raw"
        }
      },
      "source": [
        "## 🎯 今天学会了什么？\n",
        "\n",
        "### 3个核心概念\n",
        "1. **数据的中心**：平均值 vs 中位数\n",
        "   - 平均值：受异常值影响\n",
        "   - 中位数：不受异常值影响\n",
        "\n",
        "2. **数据的分散**：标准差\n",
        "   - 小标准差 = 数据集中\n",
        "   - 大标准差 = 数据分散\n",
        "\n",
        "3. **钟形曲线**：正态分布\n",
        "   - 68-95-99.7法则\n",
        "   - 帮助判断数据是否\"正常\"\n",
        "\n",
        "### 💡 实际应用\n",
        "- **数据分析**：先算平均值和标准差，了解数据基本情况\n",
        "- **异常检测**：超过2个标准差的数据可能是异常\n",
        "- **质量控制**：用正态分布判断产品质量是否稳定\n",
        "\n",
        "### 🚀 下一步\n",
        "明天我们会学习：\n",
        "- 如何比较两组数据\n",
        "- 相关性分析\n",
        "- 简单的数据可视化技巧\n",
        "\n",
        "### 📝 记住这些就够了\n",
        "- **平均值 vs 中位数**：有异常值时用中位数\n",
        "- **标准差**：衡量数据分散程度\n",
        "- **68-95-99.7**：正态分布的神奇规律\n",
        "\n",
        "**恭喜！你已经掌握了统计学的基础！** 🎉\n"
      ]
    }
  ],
  "metadata": {
    "kernelspec": {
      "display_name": "ml_learning",
      "language": "python",
      "name": "python3"
    },
    "language_info": {
      "codemirror_mode": {
        "name": "ipython",
        "version": 3
      },
      "file_extension": ".py",
      "mimetype": "text/x-python",
      "name": "python",
      "nbconvert_exporter": "python",
      "pygments_lexer": "ipython3",
      "version": "3.9.23"
    }
  },
  "nbformat": 4,
  "nbformat_minor": 2
}
