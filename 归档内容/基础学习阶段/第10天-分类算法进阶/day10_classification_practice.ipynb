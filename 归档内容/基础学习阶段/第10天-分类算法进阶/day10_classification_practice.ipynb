{
 "cells": [
  {
   "cell_type": "markdown",
   "metadata": {},
   "source": [
    "# 第10天：分类算法进阶与实战\n",
    "\n",
    "## 今日目标\n",
    "- 回顾第九天练习题\n",
    "- 掌握多分类、特征工程、模型调优\n",
    "- 学会交叉验证与模型对比\n",
    "- 完成进阶练习题\n"
   ]
  },
  {
   "cell_type": "markdown",
   "metadata": {},
   "source": [
    "# 1. 练习题回顾与讲解\n",
    "\n",
    "请先独立完成第九天的练习题，然后对照以下讲解：\n",
    "\n",
    "（此处可粘贴你的答案或与同伴讨论）"
   ]
  },
  {
   "cell_type": "markdown",
   "metadata": {},
   "source": [
    "# 2. 进阶实战：鸢尾花多分类、特征工程、模型调优\n",
    "\n",
    "## 2.1 鸢尾花多分类实战\n",
    "- 用LogisticRegression和DecisionTreeClassifier分别对鸢尾花数据集做多分类\n",
    "- 输出准确率、混淆矩阵、分类报告\n",
    "- 可视化决策边界和特征重要性\n"
   ]
  },
  {
   "cell_type": "code",
   "execution_count": null,
   "metadata": {},
   "outputs": [],
   "source": [
    "import numpy as np\n",
    "import pandas as pd\n",
    "import matplotlib.pyplot as plt\n",
    "import seaborn as sns\n",
    "from sklearn.model_selection import train_test_split, cross_val_score\n",
    "from sklearn.linear_model import LogisticRegression\n",
    "from sklearn.tree import DecisionTreeClassifier, plot_tree\n",
    "from sklearn.metrics import accuracy_score, confusion_matrix, classification_report\n",
    "from sklearn.datasets import load_iris\n",
    "\n",
    "plt.rcParams['font.sans-serif'] = ['SimHei']\n",
    "plt.rcParams['axes.unicode_minus'] = False\n",
    "\n",
    "iris = load_iris()\n",
    "X = iris.data\n",
    "y = iris.target\n",
    "\n",
    "X_train, X_test, y_train, y_test = train_test_split(X, y, test_size=0.2, random_state=42)\n",
    "\n",
    "# Logistic回归多分类\n",
    "logreg = LogisticRegression(max_iter=1000, random_state=42)\n",
    "logreg.fit(X_train, y_train)\n",
    "y_pred_log = logreg.predict(X_test)\n",
    "print('Logistic回归准确率:', accuracy_score(y_test, y_pred_log))\n",
    "print('混淆矩阵:\\n', confusion_matrix(y_test, y_pred_log))\n",
    "print('分类报告:\\n', classification_report(y_test, y_pred_log))\n",
    "\n",
    "# 决策树多分类\n",
    "dtree = DecisionTreeClassifier(max_depth=3, random_state=42)\n",
    "dtree.fit(X_train, y_train)\n",
    "y_pred_tree = dtree.predict(X_test)\n",
    "print('决策树准确率:', accuracy_score(y_test, y_pred_tree))\n",
    "print('混淆矩阵:\\n', confusion_matrix(y_test, y_pred_tree))\n",
    "print('分类报告:\\n', classification_report(y_test, y_pred_tree))\n"
   ]
  },
  {
   "cell_type": "markdown",
   "metadata": {},
   "source": [
    "## 2.2 特征工程与可视化\n",
    "- 观察不同特征对分类的影响\n",
    "- 可视化特征分布和重要性\n"
   ]
  },
  {
   "cell_type": "code",
   "execution_count": null,
   "metadata": {},
   "outputs": [],
   "source": [
    "# 特征分布可视化\n",
    "df = pd.DataFrame(X, columns=iris.feature_names)\n",
    "df['target'] = y\n",
    "sns.pairplot(df, hue='target', diag_kind='kde')\n",
    "plt.suptitle('鸢尾花特征分布', y=1.02)\n",
    "plt.show()\n",
    "\n",
    "# 决策树特征重要性\n",
    "importances = dtree.feature_importances_\n",
    "plt.bar(iris.feature_names, importances)\n",
    "plt.title('决策树特征重要性')\n",
    "plt.ylabel('重要性')\n",
    "plt.show()\n"
   ]
  },
  {
   "cell_type": "markdown",
   "metadata": {},
   "source": [
    "## 2.3 模型调优与交叉验证\n",
    "- 用GridSearchCV或cross_val_score调参\n",
    "- 比较不同参数下模型表现\n"
   ]
  },
  {
   "cell_type": "code",
   "execution_count": null,
   "metadata": {},
   "outputs": [],
   "source": [
    "from sklearn.model_selection import GridSearchCV\n",
    "# Logistic回归调参\n",
    "param_grid = {'C': [0.01, 0.1, 1, 10]}\n",
    "grid = GridSearchCV(LogisticRegression(max_iter=1000), param_grid, cv=5)\n",
    "grid.fit(X, y)\n",
    "print('最优参数:', grid.best_params_)\n",
    "print('最优分数:', grid.best_score_)\n"
   ]
  },
  {
   "cell_type": "markdown",
   "metadata": {},
   "source": [
    "# 3. 交叉验证与模型对比\n",
    "\n",
    "- 用cross_val_score对比Logistic回归和决策树的泛化能力\n"
   ]
  },
  {
   "cell_type": "code",
   "execution_count": null,
   "metadata": {},
   "outputs": [],
   "source": [
    "scores_log = cross_val_score(LogisticRegression(max_iter=1000), X, y, cv=5)\n",
    "scores_tree = cross_val_score(DecisionTreeClassifier(max_depth=3), X, y, cv=5)\n",
    "print('Logistic回归交叉验证均值:', scores_log.mean())\n",
    "print('决策树交叉验证均值:', scores_tree.mean())\n"
   ]
  },
  {
   "cell_type": "markdown",
   "metadata": {},
   "source": [
    "# 4. 进阶练习与思考题\n",
    "\n",
    "1. 尝试不同的特征组合，观察模型表现变化。\n",
    "2. 用GridSearchCV对决策树的max_depth、min_samples_split等参数调优。\n",
    "3. 用鸢尾花以外的数据集（如乳腺癌数据集）做分类实战。\n",
    "4. 总结Logistic回归和决策树在多分类问题上的优缺点。\n"
   ]
  }
 ],
 "metadata": {
  "kernelspec": {
   "display_name": "Python 3",
   "language": "python",
   "name": "python3"
  },
  "language_info": {
   "name": "python",
   "version": "3.8.5"
  }
 },
 "nbformat": 4,
 "nbformat_minor": 4
}
